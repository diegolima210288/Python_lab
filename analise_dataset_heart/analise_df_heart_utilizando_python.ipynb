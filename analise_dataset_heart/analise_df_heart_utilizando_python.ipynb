{
 "cells": [
  {
   "cell_type": "markdown",
   "metadata": {
    "id": "rRiVuSX2X3gq"
   },
   "source": [
    "# **Conjunto de dados de previsão e análise de ataque cardíaco**\n",
    "\n",
    "Um conjunto de dados para classificação de ataque cardíaco\n",
    "\n",
    "https://www.kaggle.com/datasets/rashikrahmanpritom/heart-attack-analysis-prediction-dataset"
   ]
  },
  {
   "cell_type": "markdown",
   "metadata": {
    "id": "z-AvvpAHqlgB"
   },
   "source": [
    "#analise geral e importação dos dados e bibliotecas"
   ]
  },
  {
   "cell_type": "code",
   "execution_count": 1,
   "metadata": {
    "id": "a6H8ipe2OLw2"
   },
   "outputs": [],
   "source": [
    "#importação das bibliotecas\n",
    "import pandas as pd\n",
    "import seaborn as sns"
   ]
  },
  {
   "cell_type": "code",
   "execution_count": 3,
   "metadata": {
    "id": "kttyvUOCOR2-"
   },
   "outputs": [],
   "source": [
    "#lendo o arquivo .CSV\n",
    "df = pd.read_excel('heart.xlsx')"
   ]
  },
  {
   "cell_type": "code",
   "execution_count": 4,
   "metadata": {
    "colab": {
     "base_uri": "https://localhost:8080/"
    },
    "id": "BWjvffPpOnK3",
    "outputId": "164c7c4a-b73c-49dc-e5db-b78fd4424224"
   },
   "outputs": [
    {
     "data": {
      "text/plain": [
       "(303, 14)"
      ]
     },
     "execution_count": 4,
     "metadata": {},
     "output_type": "execute_result"
    }
   ],
   "source": [
    "#verificando a quantida de linhas e colunas do data frame\n",
    "df.shape"
   ]
  },
  {
   "cell_type": "code",
   "execution_count": 5,
   "metadata": {
    "colab": {
     "base_uri": "https://localhost:8080/"
    },
    "id": "S9u3ufemOo7G",
    "outputId": "58b35c9a-7586-4fa6-8d40-1950f19a720f"
   },
   "outputs": [
    {
     "name": "stdout",
     "output_type": "stream",
     "text": [
      "<class 'pandas.core.frame.DataFrame'>\n",
      "RangeIndex: 303 entries, 0 to 302\n",
      "Data columns (total 14 columns):\n",
      " #   Column    Non-Null Count  Dtype  \n",
      "---  ------    --------------  -----  \n",
      " 0   age       303 non-null    float64\n",
      " 1   sex       303 non-null    float64\n",
      " 2   cp        303 non-null    float64\n",
      " 3   trtbps    303 non-null    float64\n",
      " 4   chol      303 non-null    float64\n",
      " 5   fbs       303 non-null    float64\n",
      " 6   restecg   303 non-null    float64\n",
      " 7   thalachh  303 non-null    float64\n",
      " 8   exng      303 non-null    float64\n",
      " 9   oldpeak   303 non-null    object \n",
      " 10  slp       303 non-null    float64\n",
      " 11  caa       303 non-null    float64\n",
      " 12  thall     303 non-null    float64\n",
      " 13  output    303 non-null    float64\n",
      "dtypes: float64(13), object(1)\n",
      "memory usage: 33.3+ KB\n"
     ]
    }
   ],
   "source": [
    "#verificando a presença de NAs e verificando tipos de dados\n",
    "df.info()"
   ]
  },
  {
   "cell_type": "code",
   "execution_count": 6,
   "metadata": {
    "colab": {
     "base_uri": "https://localhost:8080/",
     "height": 206
    },
    "id": "ZRb0rLoSRd2r",
    "outputId": "85cc8eda-6b00-40da-f46e-6f75dc4bb5a2"
   },
   "outputs": [
    {
     "data": {
      "text/html": [
       "<div>\n",
       "<style scoped>\n",
       "    .dataframe tbody tr th:only-of-type {\n",
       "        vertical-align: middle;\n",
       "    }\n",
       "\n",
       "    .dataframe tbody tr th {\n",
       "        vertical-align: top;\n",
       "    }\n",
       "\n",
       "    .dataframe thead th {\n",
       "        text-align: right;\n",
       "    }\n",
       "</style>\n",
       "<table border=\"1\" class=\"dataframe\">\n",
       "  <thead>\n",
       "    <tr style=\"text-align: right;\">\n",
       "      <th></th>\n",
       "      <th>age</th>\n",
       "      <th>sex</th>\n",
       "      <th>cp</th>\n",
       "      <th>trtbps</th>\n",
       "      <th>chol</th>\n",
       "      <th>fbs</th>\n",
       "      <th>restecg</th>\n",
       "      <th>thalachh</th>\n",
       "      <th>exng</th>\n",
       "      <th>oldpeak</th>\n",
       "      <th>slp</th>\n",
       "      <th>caa</th>\n",
       "      <th>thall</th>\n",
       "      <th>output</th>\n",
       "    </tr>\n",
       "  </thead>\n",
       "  <tbody>\n",
       "    <tr>\n",
       "      <th>0</th>\n",
       "      <td>63.0</td>\n",
       "      <td>1.0</td>\n",
       "      <td>3.0</td>\n",
       "      <td>145.0</td>\n",
       "      <td>233.0</td>\n",
       "      <td>1.0</td>\n",
       "      <td>0.0</td>\n",
       "      <td>150.0</td>\n",
       "      <td>0.0</td>\n",
       "      <td>2022-03-02 00:00:00</td>\n",
       "      <td>0.0</td>\n",
       "      <td>0.0</td>\n",
       "      <td>1.0</td>\n",
       "      <td>1.0</td>\n",
       "    </tr>\n",
       "    <tr>\n",
       "      <th>1</th>\n",
       "      <td>37.0</td>\n",
       "      <td>1.0</td>\n",
       "      <td>2.0</td>\n",
       "      <td>130.0</td>\n",
       "      <td>250.0</td>\n",
       "      <td>0.0</td>\n",
       "      <td>1.0</td>\n",
       "      <td>187.0</td>\n",
       "      <td>0.0</td>\n",
       "      <td>2022-05-03 00:00:00</td>\n",
       "      <td>0.0</td>\n",
       "      <td>0.0</td>\n",
       "      <td>2.0</td>\n",
       "      <td>1.0</td>\n",
       "    </tr>\n",
       "    <tr>\n",
       "      <th>2</th>\n",
       "      <td>41.0</td>\n",
       "      <td>0.0</td>\n",
       "      <td>1.0</td>\n",
       "      <td>130.0</td>\n",
       "      <td>204.0</td>\n",
       "      <td>0.0</td>\n",
       "      <td>0.0</td>\n",
       "      <td>172.0</td>\n",
       "      <td>0.0</td>\n",
       "      <td>2022-04-01 00:00:00</td>\n",
       "      <td>2.0</td>\n",
       "      <td>0.0</td>\n",
       "      <td>2.0</td>\n",
       "      <td>1.0</td>\n",
       "    </tr>\n",
       "    <tr>\n",
       "      <th>3</th>\n",
       "      <td>56.0</td>\n",
       "      <td>1.0</td>\n",
       "      <td>1.0</td>\n",
       "      <td>120.0</td>\n",
       "      <td>236.0</td>\n",
       "      <td>0.0</td>\n",
       "      <td>1.0</td>\n",
       "      <td>178.0</td>\n",
       "      <td>0.0</td>\n",
       "      <td>0.8</td>\n",
       "      <td>2.0</td>\n",
       "      <td>0.0</td>\n",
       "      <td>2.0</td>\n",
       "      <td>1.0</td>\n",
       "    </tr>\n",
       "    <tr>\n",
       "      <th>4</th>\n",
       "      <td>57.0</td>\n",
       "      <td>0.0</td>\n",
       "      <td>0.0</td>\n",
       "      <td>120.0</td>\n",
       "      <td>354.0</td>\n",
       "      <td>0.0</td>\n",
       "      <td>1.0</td>\n",
       "      <td>163.0</td>\n",
       "      <td>1.0</td>\n",
       "      <td>0.6</td>\n",
       "      <td>2.0</td>\n",
       "      <td>0.0</td>\n",
       "      <td>2.0</td>\n",
       "      <td>1.0</td>\n",
       "    </tr>\n",
       "  </tbody>\n",
       "</table>\n",
       "</div>"
      ],
      "text/plain": [
       "    age  sex   cp  trtbps   chol  fbs  restecg  thalachh  exng  \\\n",
       "0  63.0  1.0  3.0   145.0  233.0  1.0      0.0     150.0   0.0   \n",
       "1  37.0  1.0  2.0   130.0  250.0  0.0      1.0     187.0   0.0   \n",
       "2  41.0  0.0  1.0   130.0  204.0  0.0      0.0     172.0   0.0   \n",
       "3  56.0  1.0  1.0   120.0  236.0  0.0      1.0     178.0   0.0   \n",
       "4  57.0  0.0  0.0   120.0  354.0  0.0      1.0     163.0   1.0   \n",
       "\n",
       "               oldpeak  slp  caa  thall  output  \n",
       "0  2022-03-02 00:00:00  0.0  0.0    1.0     1.0  \n",
       "1  2022-05-03 00:00:00  0.0  0.0    2.0     1.0  \n",
       "2  2022-04-01 00:00:00  2.0  0.0    2.0     1.0  \n",
       "3                  0.8  2.0  0.0    2.0     1.0  \n",
       "4                  0.6  2.0  0.0    2.0     1.0  "
      ]
     },
     "execution_count": 6,
     "metadata": {},
     "output_type": "execute_result"
    }
   ],
   "source": [
    "#analisando as informações do data frame\n",
    "df.head()"
   ]
  },
  {
   "cell_type": "markdown",
   "metadata": {
    "id": "jNpkiYkKqYiP"
   },
   "source": [
    "#criação de um novo data frame somente com pessoas com pretensão de infarto e inclusão da coluna faixa_etaria"
   ]
  },
  {
   "cell_type": "code",
   "execution_count": 12,
   "metadata": {},
   "outputs": [],
   "source": [
    "pessoas_c_pretensao = df[df['output'] == 1]"
   ]
  },
  {
   "cell_type": "code",
   "execution_count": 23,
   "metadata": {},
   "outputs": [
    {
     "data": {
      "text/plain": [
       "array([63., 37., 41., 56., 57., 44., 52., 54., 48., 49., 64., 58., 50.,\n",
       "       66., 43., 69., 59., 42., 61., 40., 71., 51., 65., 53., 46., 45.,\n",
       "       39., 47., 62., 34., 35., 29., 55., 60., 67., 68., 74., 76., 70.,\n",
       "       38.])"
      ]
     },
     "execution_count": 23,
     "metadata": {},
     "output_type": "execute_result"
    }
   ],
   "source": [
    "pessoas_c_pretensao['age'].unique()"
   ]
  },
  {
   "cell_type": "code",
   "execution_count": 24,
   "metadata": {
    "id": "53MZ0XGCQN2f"
   },
   "outputs": [],
   "source": [
    "faixa_etaria = []\n",
    "for i in pessoas_c_pretensao['age'].values:\n",
    "    if (i < 29):\n",
    "        faixa_etaria.append('0 --| 28')\n",
    "    elif (i >= 29 and i < 37):\n",
    "        faixa_etaria.append('29 --| 37')\n",
    "    elif (i >= 37 and i < 45):\n",
    "        faixa_etaria.append('37 --| 45')\n",
    "    elif (i >= 45 and i < 53):\n",
    "        faixa_etaria.append('45 --| 53')\n",
    "    elif (i >= 53 and i < 61):\n",
    "        faixa_etaria.append('53 --| 61')\n",
    "    elif (i >= 61 and i < 69):\n",
    "        faixa_etaria.append('61 --| 69')\n",
    "    elif (i >= 69):\n",
    "        faixa_etaria.append('69 --| 77')\n",
    "    else:\n",
    "        faixa_etaria.append('78 --| 100')"
   ]
  },
  {
   "cell_type": "code",
   "execution_count": 26,
   "metadata": {
    "colab": {
     "base_uri": "https://localhost:8080/"
    },
    "id": "w3OwLvDHi2Dk",
    "outputId": "0ce375bb-440b-4994-b35e-7a70c9c6f917"
   },
   "outputs": [
    {
     "name": "stderr",
     "output_type": "stream",
     "text": [
      "C:\\Users\\md_di\\AppData\\Local\\Temp\\ipykernel_9104\\1697926097.py:1: SettingWithCopyWarning: \n",
      "A value is trying to be set on a copy of a slice from a DataFrame.\n",
      "Try using .loc[row_indexer,col_indexer] = value instead\n",
      "\n",
      "See the caveats in the documentation: https://pandas.pydata.org/pandas-docs/stable/user_guide/indexing.html#returning-a-view-versus-a-copy\n",
      "  pessoas_c_pretensao['faixa_etaria'] = faixa_etaria\n"
     ]
    }
   ],
   "source": [
    "pessoas_c_pretensao['faixa_etaria'] = faixa_etaria"
   ]
  },
  {
   "cell_type": "markdown",
   "metadata": {
    "id": "uyE_yhNUqd3A"
   },
   "source": [
    "#analise grafica de algumas informações do data frame"
   ]
  },
  {
   "cell_type": "code",
   "execution_count": null,
   "metadata": {
    "id": "_aE4Jn9odEir"
   },
   "outputs": [],
   "source": [
    "#verificando a média da dor sentida por pessoas sem e com pretensão de infarto\n",
    "media_dor = df.groupby('output').mean()['cp']"
   ]
  },
  {
   "cell_type": "code",
   "execution_count": null,
   "metadata": {
    "colab": {
     "base_uri": "https://localhost:8080/",
     "height": 293
    },
    "id": "bzXWdaJQdVY7",
    "outputId": "0e47dcc9-d98a-498a-83e9-c17cd66e7111"
   },
   "outputs": [
    {
     "data": {
      "text/plain": [
       "<matplotlib.axes._subplots.AxesSubplot at 0x7f82801b9cd0>"
      ]
     },
     "execution_count": 16,
     "metadata": {},
     "output_type": "execute_result"
    },
    {
     "data": {
      "image/png": "[encoded data removed]",
      "text/plain": [
       "<Figure size 432x288 with 1 Axes>"
      ]
     },
     "metadata": {
      "needs_background": "light"
     },
     "output_type": "display_data"
    }
   ],
   "source": [
    "media_dor.plot(kind='bar')"
   ]
  },
  {
   "cell_type": "code",
   "execution_count": null,
   "metadata": {
    "id": "q4byyJr7UjD0"
   },
   "outputs": [],
   "source": [
    "#filtro somente das pessoas com mais chance de ataque cardíaco\n",
    "pessoas_c_pretensao = df[df['output'] == 1]"
   ]
  },
  {
   "cell_type": "code",
   "execution_count": null,
   "metadata": {
    "colab": {
     "base_uri": "https://localhost:8080/",
     "height": 296
    },
    "id": "aZ7yn5d5QT0n",
    "outputId": "d618f4b6-b975-4e1b-a71c-ea2719805497"
   },
   "outputs": [
    {
     "data": {
      "text/plain": [
       "<matplotlib.axes._subplots.AxesSubplot at 0x7f828071f070>"
      ]
     },
     "execution_count": 18,
     "metadata": {},
     "output_type": "execute_result"
    },
    {
     "data": {
      "image/png": "[encoded data removed]",
      "text/plain": [
       "<Figure size 432x288 with 1 Axes>"
      ]
     },
     "metadata": {
      "needs_background": "light"
     },
     "output_type": "display_data"
    }
   ],
   "source": [
    "#verificando a distribuição - de pessoas com mais chance de ataque cardíaco - por sexo e idade\n",
    "sns.boxplot(data=pessoas_c_pretensao, x='sex', y='age')"
   ]
  },
  {
   "cell_type": "code",
   "execution_count": null,
   "metadata": {
    "colab": {
     "base_uri": "https://localhost:8080/",
     "height": 298
    },
    "id": "d164v1MYnjS4",
    "outputId": "55262df7-86bf-4a21-9dfc-d1b4a7522289"
   },
   "outputs": [
    {
     "data": {
      "text/plain": [
       "<matplotlib.axes._subplots.AxesSubplot at 0x7f828023da60>"
      ]
     },
     "execution_count": 23,
     "metadata": {},
     "output_type": "execute_result"
    },
    {
     "data": {
      "image/png": "[encoded data removed]",
      "text/plain": [
       "<Figure size 432x288 with 1 Axes>"
      ]
     },
     "metadata": {
      "needs_background": "light"
     },
     "output_type": "display_data"
    }
   ],
   "source": [
    "#verificando a quantidade - de pessoas com mais chance de ataque cardíaco - por faixa etaria\n",
    "sns.histplot(data=pessoas_c_pretensao, x='faixa_etaria')"
   ]
  },
  {
   "cell_type": "markdown",
   "metadata": {
    "id": "_cCvAp00h5gd"
   },
   "source": [
    "#analisando os quartis, data frame geral, do colesterol medido dos pacientes (coluna chol)"
   ]
  },
  {
   "cell_type": "code",
   "execution_count": null,
   "metadata": {
    "id": "ZMK8NJODkj2W"
   },
   "outputs": [],
   "source": [
    "pessoas_c_pretensao = df[df['output'] == 1]"
   ]
  },
  {
   "cell_type": "code",
   "execution_count": null,
   "metadata": {
    "colab": {
     "base_uri": "https://localhost:8080/"
    },
    "id": "6-OjT_jRg3Vs",
    "outputId": "6cfaa3a4-89f9-40e4-eb4d-1d513e382d2e"
   },
   "outputs": [
    {
     "data": {
      "text/plain": [
       "count    165.000000\n",
       "mean     242.230303\n",
       "std       53.552872\n",
       "min      126.000000\n",
       "25%      208.000000\n",
       "50%      234.000000\n",
       "75%      267.000000\n",
       "max      564.000000\n",
       "Name: chol, dtype: float64"
      ]
     },
     "execution_count": 53,
     "metadata": {},
     "output_type": "execute_result"
    }
   ],
   "source": [
    "pessoas_c_pretensao['chol'].describe()"
   ]
  },
  {
   "cell_type": "code",
   "execution_count": null,
   "metadata": {
    "id": "qiQXFMNckyXO"
   },
   "outputs": [],
   "source": [
    "pessoas_s_pretensao = df[df['output'] == 0]"
   ]
  },
  {
   "cell_type": "code",
   "execution_count": null,
   "metadata": {
    "colab": {
     "base_uri": "https://localhost:8080/"
    },
    "id": "JS2GK7y-k1vH",
    "outputId": "01ccc7a1-b747-4c02-9319-57469aae7a63"
   },
   "outputs": [
    {
     "data": {
      "text/plain": [
       "count    138.000000\n",
       "mean     251.086957\n",
       "std       49.454614\n",
       "min      131.000000\n",
       "25%      217.250000\n",
       "50%      249.000000\n",
       "75%      283.000000\n",
       "max      409.000000\n",
       "Name: chol, dtype: float64"
      ]
     },
     "execution_count": 54,
     "metadata": {},
     "output_type": "execute_result"
    }
   ],
   "source": [
    "pessoas_s_pretensao['chol'].describe()"
   ]
  },
  {
   "cell_type": "code",
   "execution_count": null,
   "metadata": {
    "colab": {
     "base_uri": "https://localhost:8080/",
     "height": 296
    },
    "id": "onW3sl3XiPit",
    "outputId": "8095e52f-4196-4afa-9158-b562772d369f"
   },
   "outputs": [
    {
     "data": {
      "text/plain": [
       "<matplotlib.axes._subplots.AxesSubplot at 0x7f827d420370>"
      ]
     },
     "execution_count": 55,
     "metadata": {},
     "output_type": "execute_result"
    },
    {
     "data": {
      "image/png": "[encoded data removed]",
      "text/plain": [
       "<Figure size 432x288 with 1 Axes>"
      ]
     },
     "metadata": {
      "needs_background": "light"
     },
     "output_type": "display_data"
    }
   ],
   "source": [
    "sns.boxplot(data=df, x='output', y='chol')"
   ]
  }
 ],
 "metadata": {
  "colab": {
   "provenance": []
  },
  "kernelspec": {
   "display_name": "Python 3 (ipykernel)",
   "language": "python",
   "name": "python3"
  },
  "language_info": {
   "codemirror_mode": {
    "name": "ipython",
    "version": 3
   },
   "file_extension": ".py",
   "mimetype": "text/x-python",
   "name": "python",
   "nbconvert_exporter": "python",
   "pygments_lexer": "ipython3",
   "version": "3.9.12"
  }
 },
 "nbformat": 4,
 "nbformat_minor": 4
}
