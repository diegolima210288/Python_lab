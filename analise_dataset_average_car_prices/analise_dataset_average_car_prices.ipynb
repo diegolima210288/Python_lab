{
  "nbformat": 4,
  "nbformat_minor": 0,
  "metadata": {
    "colab": {
      "provenance": []
    },
    "kernelspec": {
      "name": "python3",
      "display_name": "Python 3"
    },
    "language_info": {
      "name": "python"
    }
  },
  "cells": [
    {
      "cell_type": "markdown",
      "source": [
        "**Analise exploratoria e aplicação algoritimo Regressão linear no dataset \"Average car prices - Bazil\" do Kaggle**\n",
        "\n",
        "https://www.kaggle.com/datasets/vagnerbessa/average-car-prices-bazil"
      ],
      "metadata": {
        "id": "PZthygoqV31q"
      }
    },
    {
      "cell_type": "code",
      "execution_count": 1,
      "metadata": {
        "id": "1BKThId4VWep"
      },
      "outputs": [],
      "source": [
        "#importação das bibliotecas\n",
        "\n",
        "import pandas as pd\n",
        "import numpy as np\n",
        "import seaborn as sns\n",
        "import matplotlib.pyplot as plt\n",
        "import math\n",
        "import random\n",
        "import statsmodels.api as sm\n",
        "\n",
        "from sklearn.model_selection import train_test_split\n",
        "from sklearn.linear_model import LinearRegression\n",
        "from sklearn.metrics import mean_absolute_error, mean_squared_error\n",
        "from sklearn import metrics"
      ]
    },
    {
      "cell_type": "code",
      "source": [
        "df = pd.read_csv('/content/fipe_2022.csv')"
      ],
      "metadata": {
        "id": "5PT3uO57WaLa"
      },
      "execution_count": 2,
      "outputs": []
    },
    {
      "cell_type": "code",
      "source": [
        "#verificando os tipos de dados e presença de NAs\n",
        "df.info()"
      ],
      "metadata": {
        "colab": {
          "base_uri": "https://localhost:8080/"
        },
        "id": "XXsIcGCAPtTD",
        "outputId": "27e303a9-0c47-4334-aa96-a0c06f65cdbd"
      },
      "execution_count": 3,
      "outputs": [
        {
          "output_type": "stream",
          "name": "stdout",
          "text": [
            "<class 'pandas.core.frame.DataFrame'>\n",
            "RangeIndex: 290275 entries, 0 to 290274\n",
            "Data columns (total 12 columns):\n",
            " #   Column              Non-Null Count   Dtype  \n",
            "---  ------              --------------   -----  \n",
            " 0   year_of_reference   290275 non-null  int64  \n",
            " 1   month_of_reference  290275 non-null  object \n",
            " 2   fipe_code           290275 non-null  object \n",
            " 3   authentication      290275 non-null  object \n",
            " 4   brand               290275 non-null  object \n",
            " 5   model               290275 non-null  object \n",
            " 6   fuel                290275 non-null  object \n",
            " 7   gear                290275 non-null  object \n",
            " 8   engine_size         290275 non-null  float64\n",
            " 9   year_model          290275 non-null  int64  \n",
            " 10  avg_price_brl       290275 non-null  float64\n",
            " 11  age_years           290275 non-null  int64  \n",
            "dtypes: float64(2), int64(3), object(7)\n",
            "memory usage: 26.6+ MB\n"
          ]
        }
      ]
    },
    {
      "cell_type": "code",
      "source": [
        "#verifincando nome das colunas\n",
        "df.columns"
      ],
      "metadata": {
        "colab": {
          "base_uri": "https://localhost:8080/"
        },
        "id": "s2ZeGAnjWimR",
        "outputId": "e47fb622-2309-431e-bef3-0179f657e103"
      },
      "execution_count": 4,
      "outputs": [
        {
          "output_type": "execute_result",
          "data": {
            "text/plain": [
              "Index(['year_of_reference', 'month_of_reference', 'fipe_code',\n",
              "       'authentication', 'brand', 'model', 'fuel', 'gear', 'engine_size',\n",
              "       'year_model', 'avg_price_brl', 'age_years'],\n",
              "      dtype='object')"
            ]
          },
          "metadata": {},
          "execution_count": 4
        }
      ]
    },
    {
      "cell_type": "code",
      "source": [
        "#alterando nome das colunas\n",
        "df.rename(columns={'year_of_reference': 'ano_de_referencia', 'month_of_reference': 'mes_de_referencia', 'fipe_code': 'codigo_fipe',\n",
        "       'authentication': 'autenticacao', 'brand': 'marca', 'model': 'modelo', 'fuel': 'combustível', 'gear': 'cambio', \n",
        "       'engine_size': 'potencia_do_motor', 'year_model': 'ano modelo', 'avg_price_brl': 'preco_medio_brl', 'age_years': 'idade_em_anos'}, \n",
        "       inplace = True)"
      ],
      "metadata": {
        "id": "dp6ylbJIWnU4"
      },
      "execution_count": 5,
      "outputs": []
    },
    {
      "cell_type": "code",
      "source": [
        "#visualização dos dados\n",
        "df.head()"
      ],
      "metadata": {
        "id": "HgkJHexmXCWC",
        "colab": {
          "base_uri": "https://localhost:8080/",
          "height": 374
        },
        "outputId": "2357cfd8-bea1-46e0-ed0f-19de6bffdc5a"
      },
      "execution_count": 6,
      "outputs": [
        {
          "output_type": "execute_result",
          "data": {
            "text/plain": [
              "   ano_de_referencia mes_de_referencia codigo_fipe autenticacao  marca  \\\n",
              "0               2022           January    038001-6   vwmrywl5qs  Acura   \n",
              "1               2022           January    038001-6   t9mt723qhz  Acura   \n",
              "2               2022           January    038001-6   tr5wv4z21g  Acura   \n",
              "3               2022           January    038001-6   s2xxsjz3mt  Acura   \n",
              "4               2022           January    038001-6   rtm9gj7zk8  Acura   \n",
              "\n",
              "    modelo combustível  cambio  potencia_do_motor  ano modelo  \\\n",
              "0  NSX 3.0    Gasoline  manual                3.0        1995   \n",
              "1  NSX 3.0    Gasoline  manual                3.0        1994   \n",
              "2  NSX 3.0    Gasoline  manual                3.0        1993   \n",
              "3  NSX 3.0    Gasoline  manual                3.0        1992   \n",
              "4  NSX 3.0    Gasoline  manual                3.0        1991   \n",
              "\n",
              "   preco_medio_brl  idade_em_anos  \n",
              "0          43779.0             28  \n",
              "1          42244.0             29  \n",
              "2          40841.0             30  \n",
              "3          39028.0             31  \n",
              "4          35678.0             32  "
            ],
            "text/html": [
              "\n",
              "  <div id=\"df-cd6452fd-96a6-46e5-b3e4-f32c794cd036\">\n",
              "    <div class=\"colab-df-container\">\n",
              "      <div>\n",
              "<style scoped>\n",
              "    .dataframe tbody tr th:only-of-type {\n",
              "        vertical-align: middle;\n",
              "    }\n",
              "\n",
              "    .dataframe tbody tr th {\n",
              "        vertical-align: top;\n",
              "    }\n",
              "\n",
              "    .dataframe thead th {\n",
              "        text-align: right;\n",
              "    }\n",
              "</style>\n",
              "<table border=\"1\" class=\"dataframe\">\n",
              "  <thead>\n",
              "    <tr style=\"text-align: right;\">\n",
              "      <th></th>\n",
              "      <th>ano_de_referencia</th>\n",
              "      <th>mes_de_referencia</th>\n",
              "      <th>codigo_fipe</th>\n",
              "      <th>autenticacao</th>\n",
              "      <th>marca</th>\n",
              "      <th>modelo</th>\n",
              "      <th>combustível</th>\n",
              "      <th>cambio</th>\n",
              "      <th>potencia_do_motor</th>\n",
              "      <th>ano modelo</th>\n",
              "      <th>preco_medio_brl</th>\n",
              "      <th>idade_em_anos</th>\n",
              "    </tr>\n",
              "  </thead>\n",
              "  <tbody>\n",
              "    <tr>\n",
              "      <th>0</th>\n",
              "      <td>2022</td>\n",
              "      <td>January</td>\n",
              "      <td>038001-6</td>\n",
              "      <td>vwmrywl5qs</td>\n",
              "      <td>Acura</td>\n",
              "      <td>NSX 3.0</td>\n",
              "      <td>Gasoline</td>\n",
              "      <td>manual</td>\n",
              "      <td>3.0</td>\n",
              "      <td>1995</td>\n",
              "      <td>43779.0</td>\n",
              "      <td>28</td>\n",
              "    </tr>\n",
              "    <tr>\n",
              "      <th>1</th>\n",
              "      <td>2022</td>\n",
              "      <td>January</td>\n",
              "      <td>038001-6</td>\n",
              "      <td>t9mt723qhz</td>\n",
              "      <td>Acura</td>\n",
              "      <td>NSX 3.0</td>\n",
              "      <td>Gasoline</td>\n",
              "      <td>manual</td>\n",
              "      <td>3.0</td>\n",
              "      <td>1994</td>\n",
              "      <td>42244.0</td>\n",
              "      <td>29</td>\n",
              "    </tr>\n",
              "    <tr>\n",
              "      <th>2</th>\n",
              "      <td>2022</td>\n",
              "      <td>January</td>\n",
              "      <td>038001-6</td>\n",
              "      <td>tr5wv4z21g</td>\n",
              "      <td>Acura</td>\n",
              "      <td>NSX 3.0</td>\n",
              "      <td>Gasoline</td>\n",
              "      <td>manual</td>\n",
              "      <td>3.0</td>\n",
              "      <td>1993</td>\n",
              "      <td>40841.0</td>\n",
              "      <td>30</td>\n",
              "    </tr>\n",
              "    <tr>\n",
              "      <th>3</th>\n",
              "      <td>2022</td>\n",
              "      <td>January</td>\n",
              "      <td>038001-6</td>\n",
              "      <td>s2xxsjz3mt</td>\n",
              "      <td>Acura</td>\n",
              "      <td>NSX 3.0</td>\n",
              "      <td>Gasoline</td>\n",
              "      <td>manual</td>\n",
              "      <td>3.0</td>\n",
              "      <td>1992</td>\n",
              "      <td>39028.0</td>\n",
              "      <td>31</td>\n",
              "    </tr>\n",
              "    <tr>\n",
              "      <th>4</th>\n",
              "      <td>2022</td>\n",
              "      <td>January</td>\n",
              "      <td>038001-6</td>\n",
              "      <td>rtm9gj7zk8</td>\n",
              "      <td>Acura</td>\n",
              "      <td>NSX 3.0</td>\n",
              "      <td>Gasoline</td>\n",
              "      <td>manual</td>\n",
              "      <td>3.0</td>\n",
              "      <td>1991</td>\n",
              "      <td>35678.0</td>\n",
              "      <td>32</td>\n",
              "    </tr>\n",
              "  </tbody>\n",
              "</table>\n",
              "</div>\n",
              "      <button class=\"colab-df-convert\" onclick=\"convertToInteractive('df-cd6452fd-96a6-46e5-b3e4-f32c794cd036')\"\n",
              "              title=\"Convert this dataframe to an interactive table.\"\n",
              "              style=\"display:none;\">\n",
              "        \n",
              "  <svg xmlns=\"http://www.w3.org/2000/svg\" height=\"24px\"viewBox=\"0 0 24 24\"\n",
              "       width=\"24px\">\n",
              "    <path d=\"M0 0h24v24H0V0z\" fill=\"none\"/>\n",
              "    <path d=\"M18.56 5.44l.94 2.06.94-2.06 2.06-.94-2.06-.94-.94-2.06-.94 2.06-2.06.94zm-11 1L8.5 8.5l.94-2.06 2.06-.94-2.06-.94L8.5 2.5l-.94 2.06-2.06.94zm10 10l.94 2.06.94-2.06 2.06-.94-2.06-.94-.94-2.06-.94 2.06-2.06.94z\"/><path d=\"M17.41 7.96l-1.37-1.37c-.4-.4-.92-.59-1.43-.59-.52 0-1.04.2-1.43.59L10.3 9.45l-7.72 7.72c-.78.78-.78 2.05 0 2.83L4 21.41c.39.39.9.59 1.41.59.51 0 1.02-.2 1.41-.59l7.78-7.78 2.81-2.81c.8-.78.8-2.07 0-2.86zM5.41 20L4 18.59l7.72-7.72 1.47 1.35L5.41 20z\"/>\n",
              "  </svg>\n",
              "      </button>\n",
              "      \n",
              "  <style>\n",
              "    .colab-df-container {\n",
              "      display:flex;\n",
              "      flex-wrap:wrap;\n",
              "      gap: 12px;\n",
              "    }\n",
              "\n",
              "    .colab-df-convert {\n",
              "      background-color: #E8F0FE;\n",
              "      border: none;\n",
              "      border-radius: 50%;\n",
              "      cursor: pointer;\n",
              "      display: none;\n",
              "      fill: #1967D2;\n",
              "      height: 32px;\n",
              "      padding: 0 0 0 0;\n",
              "      width: 32px;\n",
              "    }\n",
              "\n",
              "    .colab-df-convert:hover {\n",
              "      background-color: #E2EBFA;\n",
              "      box-shadow: 0px 1px 2px rgba(60, 64, 67, 0.3), 0px 1px 3px 1px rgba(60, 64, 67, 0.15);\n",
              "      fill: #174EA6;\n",
              "    }\n",
              "\n",
              "    [theme=dark] .colab-df-convert {\n",
              "      background-color: #3B4455;\n",
              "      fill: #D2E3FC;\n",
              "    }\n",
              "\n",
              "    [theme=dark] .colab-df-convert:hover {\n",
              "      background-color: #434B5C;\n",
              "      box-shadow: 0px 1px 3px 1px rgba(0, 0, 0, 0.15);\n",
              "      filter: drop-shadow(0px 1px 2px rgba(0, 0, 0, 0.3));\n",
              "      fill: #FFFFFF;\n",
              "    }\n",
              "  </style>\n",
              "\n",
              "      <script>\n",
              "        const buttonEl =\n",
              "          document.querySelector('#df-cd6452fd-96a6-46e5-b3e4-f32c794cd036 button.colab-df-convert');\n",
              "        buttonEl.style.display =\n",
              "          google.colab.kernel.accessAllowed ? 'block' : 'none';\n",
              "\n",
              "        async function convertToInteractive(key) {\n",
              "          const element = document.querySelector('#df-cd6452fd-96a6-46e5-b3e4-f32c794cd036');\n",
              "          const dataTable =\n",
              "            await google.colab.kernel.invokeFunction('convertToInteractive',\n",
              "                                                     [key], {});\n",
              "          if (!dataTable) return;\n",
              "\n",
              "          const docLinkHtml = 'Like what you see? Visit the ' +\n",
              "            '<a target=\"_blank\" href=https://colab.research.google.com/notebooks/data_table.ipynb>data table notebook</a>'\n",
              "            + ' to learn more about interactive tables.';\n",
              "          element.innerHTML = '';\n",
              "          dataTable['output_type'] = 'display_data';\n",
              "          await google.colab.output.renderOutput(dataTable, element);\n",
              "          const docLink = document.createElement('div');\n",
              "          docLink.innerHTML = docLinkHtml;\n",
              "          element.appendChild(docLink);\n",
              "        }\n",
              "      </script>\n",
              "    </div>\n",
              "  </div>\n",
              "  "
            ]
          },
          "metadata": {},
          "execution_count": 6
        }
      ]
    },
    {
      "cell_type": "markdown",
      "source": [
        "#Normalização dos dados"
      ],
      "metadata": {
        "id": "t2h4Z6vTHjHV"
      }
    },
    {
      "cell_type": "code",
      "source": [
        "df.columns"
      ],
      "metadata": {
        "colab": {
          "base_uri": "https://localhost:8080/"
        },
        "id": "-7L2jzbMaSuX",
        "outputId": "7e942366-6ea5-411a-cefd-a186fe8fd906"
      },
      "execution_count": 7,
      "outputs": [
        {
          "output_type": "execute_result",
          "data": {
            "text/plain": [
              "Index(['ano_de_referencia', 'mes_de_referencia', 'codigo_fipe', 'autenticacao',\n",
              "       'marca', 'modelo', 'combustível', 'cambio', 'potencia_do_motor',\n",
              "       'ano modelo', 'preco_medio_brl', 'idade_em_anos'],\n",
              "      dtype='object')"
            ]
          },
          "metadata": {},
          "execution_count": 7
        }
      ]
    },
    {
      "cell_type": "code",
      "source": [
        "#criando código para cada tipo de combustível"
      ],
      "metadata": {
        "id": "y7kh9QpJvCuL"
      },
      "execution_count": null,
      "outputs": []
    },
    {
      "cell_type": "code",
      "source": [
        "df['combustível'].unique()"
      ],
      "metadata": {
        "colab": {
          "base_uri": "https://localhost:8080/"
        },
        "id": "QVcVmHvyamzx",
        "outputId": "a40c075e-a738-4dd0-c8e7-731856b76736"
      },
      "execution_count": 8,
      "outputs": [
        {
          "output_type": "execute_result",
          "data": {
            "text/plain": [
              "array(['Gasoline', 'Diesel', 'Alcohol'], dtype=object)"
            ]
          },
          "metadata": {},
          "execution_count": 8
        }
      ]
    },
    {
      "cell_type": "code",
      "source": [
        "combustivel = []\n",
        "for i in df['combustível']:\n",
        "  if i == 'Gasoline':\n",
        "    combustivel.append(1)\n",
        "  elif i == 'Diesel':\n",
        "    combustivel.append(2)\n",
        "  else:\n",
        "    combustivel.append(3)"
      ],
      "metadata": {
        "id": "PMQQb5g2bOEP"
      },
      "execution_count": 9,
      "outputs": []
    },
    {
      "cell_type": "code",
      "source": [
        "df['combustível'] = combustivel"
      ],
      "metadata": {
        "id": "_-HMAfHfbyKD"
      },
      "execution_count": 10,
      "outputs": []
    },
    {
      "cell_type": "code",
      "source": [
        "#criando código para cada tipo de cambio"
      ],
      "metadata": {
        "id": "LD1NZES6vJFb"
      },
      "execution_count": null,
      "outputs": []
    },
    {
      "cell_type": "code",
      "source": [
        "df['cambio'].unique()"
      ],
      "metadata": {
        "colab": {
          "base_uri": "https://localhost:8080/"
        },
        "id": "fu2BYDIVazKz",
        "outputId": "4f48fcd8-4794-4e41-f468-8989e1df575e"
      },
      "execution_count": 11,
      "outputs": [
        {
          "output_type": "execute_result",
          "data": {
            "text/plain": [
              "array(['manual', 'automatic'], dtype=object)"
            ]
          },
          "metadata": {},
          "execution_count": 11
        }
      ]
    },
    {
      "cell_type": "code",
      "source": [
        "cambio = []\n",
        "for i in df['cambio']:\n",
        "  if i == 'manual':\n",
        "    cambio.append(0)\n",
        "  else:\n",
        "    cambio.append(1)"
      ],
      "metadata": {
        "id": "QgONJujbYiCv"
      },
      "execution_count": 12,
      "outputs": []
    },
    {
      "cell_type": "code",
      "source": [
        "df['cambio'] = cambio"
      ],
      "metadata": {
        "id": "B88f0M1LcNaW"
      },
      "execution_count": 13,
      "outputs": []
    },
    {
      "cell_type": "code",
      "source": [
        "#criando um código para cada marca / modelo"
      ],
      "metadata": {
        "id": "vE3Pyy-8u8CS"
      },
      "execution_count": null,
      "outputs": []
    },
    {
      "cell_type": "code",
      "source": [
        "ds_marca_modelo = df['marca'] + ' / ' + df['modelo']"
      ],
      "metadata": {
        "id": "dbPumgyopNHv"
      },
      "execution_count": 14,
      "outputs": []
    },
    {
      "cell_type": "code",
      "source": [
        "ds_marca_modelo = pd.DataFrame(ds_marca_modelo.unique())"
      ],
      "metadata": {
        "id": "lISHgHJxgdn0"
      },
      "execution_count": 15,
      "outputs": []
    },
    {
      "cell_type": "code",
      "source": [
        "ds_marca_modelo.shape"
      ],
      "metadata": {
        "colab": {
          "base_uri": "https://localhost:8080/"
        },
        "id": "CwKGHEa8u7jZ",
        "outputId": "3bb9658c-db71-4a74-db92-f7793960462e"
      },
      "execution_count": 16,
      "outputs": [
        {
          "output_type": "execute_result",
          "data": {
            "text/plain": [
              "(6064, 1)"
            ]
          },
          "metadata": {},
          "execution_count": 16
        }
      ]
    },
    {
      "cell_type": "code",
      "source": [
        "ds_marca_modelo['cod'] = random.randint(100,7000)"
      ],
      "metadata": {
        "id": "XB5LlHXyutrO"
      },
      "execution_count": 17,
      "outputs": []
    },
    {
      "cell_type": "code",
      "source": [
        "df['cd_marca_modelo'] = df['marca'] + ' / ' + df['modelo']"
      ],
      "metadata": {
        "id": "g-mPZ39Epgq6"
      },
      "execution_count": 18,
      "outputs": []
    },
    {
      "cell_type": "code",
      "source": [
        "ds_marca_modelo.head()"
      ],
      "metadata": {
        "colab": {
          "base_uri": "https://localhost:8080/",
          "height": 206
        },
        "id": "PYp1SDdKprj6",
        "outputId": "7fb41b26-5f5f-483c-ca44-e04a09a54e21"
      },
      "execution_count": 19,
      "outputs": [
        {
          "output_type": "execute_result",
          "data": {
            "text/plain": [
              "                                            0   cod\n",
              "0                             Acura / NSX 3.0  3566\n",
              "1                      Acura / Legend 3.2/3.5  3566\n",
              "2                      Acura / Integra GS 1.8  3566\n",
              "3    Agrale / MARRUÁ 2.8 12V 132cv TDI Diesel  3566\n",
              "4  Agrale / MARRUÁ AM 50 2.8 140cv TDI Diesel  3566"
            ],
            "text/html": [
              "\n",
              "  <div id=\"df-c915f5d7-4e19-4b88-8dcb-711bd3a0df6b\">\n",
              "    <div class=\"colab-df-container\">\n",
              "      <div>\n",
              "<style scoped>\n",
              "    .dataframe tbody tr th:only-of-type {\n",
              "        vertical-align: middle;\n",
              "    }\n",
              "\n",
              "    .dataframe tbody tr th {\n",
              "        vertical-align: top;\n",
              "    }\n",
              "\n",
              "    .dataframe thead th {\n",
              "        text-align: right;\n",
              "    }\n",
              "</style>\n",
              "<table border=\"1\" class=\"dataframe\">\n",
              "  <thead>\n",
              "    <tr style=\"text-align: right;\">\n",
              "      <th></th>\n",
              "      <th>0</th>\n",
              "      <th>cod</th>\n",
              "    </tr>\n",
              "  </thead>\n",
              "  <tbody>\n",
              "    <tr>\n",
              "      <th>0</th>\n",
              "      <td>Acura / NSX 3.0</td>\n",
              "      <td>3566</td>\n",
              "    </tr>\n",
              "    <tr>\n",
              "      <th>1</th>\n",
              "      <td>Acura / Legend 3.2/3.5</td>\n",
              "      <td>3566</td>\n",
              "    </tr>\n",
              "    <tr>\n",
              "      <th>2</th>\n",
              "      <td>Acura / Integra GS 1.8</td>\n",
              "      <td>3566</td>\n",
              "    </tr>\n",
              "    <tr>\n",
              "      <th>3</th>\n",
              "      <td>Agrale / MARRUÁ 2.8 12V 132cv TDI Diesel</td>\n",
              "      <td>3566</td>\n",
              "    </tr>\n",
              "    <tr>\n",
              "      <th>4</th>\n",
              "      <td>Agrale / MARRUÁ AM 50 2.8 140cv TDI Diesel</td>\n",
              "      <td>3566</td>\n",
              "    </tr>\n",
              "  </tbody>\n",
              "</table>\n",
              "</div>\n",
              "      <button class=\"colab-df-convert\" onclick=\"convertToInteractive('df-c915f5d7-4e19-4b88-8dcb-711bd3a0df6b')\"\n",
              "              title=\"Convert this dataframe to an interactive table.\"\n",
              "              style=\"display:none;\">\n",
              "        \n",
              "  <svg xmlns=\"http://www.w3.org/2000/svg\" height=\"24px\"viewBox=\"0 0 24 24\"\n",
              "       width=\"24px\">\n",
              "    <path d=\"M0 0h24v24H0V0z\" fill=\"none\"/>\n",
              "    <path d=\"M18.56 5.44l.94 2.06.94-2.06 2.06-.94-2.06-.94-.94-2.06-.94 2.06-2.06.94zm-11 1L8.5 8.5l.94-2.06 2.06-.94-2.06-.94L8.5 2.5l-.94 2.06-2.06.94zm10 10l.94 2.06.94-2.06 2.06-.94-2.06-.94-.94-2.06-.94 2.06-2.06.94z\"/><path d=\"M17.41 7.96l-1.37-1.37c-.4-.4-.92-.59-1.43-.59-.52 0-1.04.2-1.43.59L10.3 9.45l-7.72 7.72c-.78.78-.78 2.05 0 2.83L4 21.41c.39.39.9.59 1.41.59.51 0 1.02-.2 1.41-.59l7.78-7.78 2.81-2.81c.8-.78.8-2.07 0-2.86zM5.41 20L4 18.59l7.72-7.72 1.47 1.35L5.41 20z\"/>\n",
              "  </svg>\n",
              "      </button>\n",
              "      \n",
              "  <style>\n",
              "    .colab-df-container {\n",
              "      display:flex;\n",
              "      flex-wrap:wrap;\n",
              "      gap: 12px;\n",
              "    }\n",
              "\n",
              "    .colab-df-convert {\n",
              "      background-color: #E8F0FE;\n",
              "      border: none;\n",
              "      border-radius: 50%;\n",
              "      cursor: pointer;\n",
              "      display: none;\n",
              "      fill: #1967D2;\n",
              "      height: 32px;\n",
              "      padding: 0 0 0 0;\n",
              "      width: 32px;\n",
              "    }\n",
              "\n",
              "    .colab-df-convert:hover {\n",
              "      background-color: #E2EBFA;\n",
              "      box-shadow: 0px 1px 2px rgba(60, 64, 67, 0.3), 0px 1px 3px 1px rgba(60, 64, 67, 0.15);\n",
              "      fill: #174EA6;\n",
              "    }\n",
              "\n",
              "    [theme=dark] .colab-df-convert {\n",
              "      background-color: #3B4455;\n",
              "      fill: #D2E3FC;\n",
              "    }\n",
              "\n",
              "    [theme=dark] .colab-df-convert:hover {\n",
              "      background-color: #434B5C;\n",
              "      box-shadow: 0px 1px 3px 1px rgba(0, 0, 0, 0.15);\n",
              "      filter: drop-shadow(0px 1px 2px rgba(0, 0, 0, 0.3));\n",
              "      fill: #FFFFFF;\n",
              "    }\n",
              "  </style>\n",
              "\n",
              "      <script>\n",
              "        const buttonEl =\n",
              "          document.querySelector('#df-c915f5d7-4e19-4b88-8dcb-711bd3a0df6b button.colab-df-convert');\n",
              "        buttonEl.style.display =\n",
              "          google.colab.kernel.accessAllowed ? 'block' : 'none';\n",
              "\n",
              "        async function convertToInteractive(key) {\n",
              "          const element = document.querySelector('#df-c915f5d7-4e19-4b88-8dcb-711bd3a0df6b');\n",
              "          const dataTable =\n",
              "            await google.colab.kernel.invokeFunction('convertToInteractive',\n",
              "                                                     [key], {});\n",
              "          if (!dataTable) return;\n",
              "\n",
              "          const docLinkHtml = 'Like what you see? Visit the ' +\n",
              "            '<a target=\"_blank\" href=https://colab.research.google.com/notebooks/data_table.ipynb>data table notebook</a>'\n",
              "            + ' to learn more about interactive tables.';\n",
              "          element.innerHTML = '';\n",
              "          dataTable['output_type'] = 'display_data';\n",
              "          await google.colab.output.renderOutput(dataTable, element);\n",
              "          const docLink = document.createElement('div');\n",
              "          docLink.innerHTML = docLinkHtml;\n",
              "          element.appendChild(docLink);\n",
              "        }\n",
              "      </script>\n",
              "    </div>\n",
              "  </div>\n",
              "  "
            ]
          },
          "metadata": {},
          "execution_count": 19
        }
      ]
    },
    {
      "cell_type": "code",
      "source": [
        "cod_marca = []\n",
        "for i in df['cd_marca_modelo']:\n",
        "  for x in ds_marca_modelo[0]:\n",
        "    if x == i:\n",
        "      cod_marca.append(int(ds_marca_modelo[ds_marca_modelo[0]==x]['cod'].values))"
      ],
      "metadata": {
        "id": "pcxH8kTPjkal"
      },
      "execution_count": 21,
      "outputs": []
    },
    {
      "cell_type": "code",
      "source": [
        "df['cd_marca_modelo'] = cod_marca"
      ],
      "metadata": {
        "id": "Osqt-whGpB0q"
      },
      "execution_count": 22,
      "outputs": []
    },
    {
      "cell_type": "code",
      "source": [
        "df.info()"
      ],
      "metadata": {
        "colab": {
          "base_uri": "https://localhost:8080/"
        },
        "id": "QV98lMzNojYH",
        "outputId": "1ec927af-c2c9-4486-db3a-3c120a697d85"
      },
      "execution_count": 24,
      "outputs": [
        {
          "output_type": "stream",
          "name": "stdout",
          "text": [
            "<class 'pandas.core.frame.DataFrame'>\n",
            "RangeIndex: 290275 entries, 0 to 290274\n",
            "Data columns (total 13 columns):\n",
            " #   Column             Non-Null Count   Dtype  \n",
            "---  ------             --------------   -----  \n",
            " 0   ano_de_referencia  290275 non-null  int64  \n",
            " 1   mes_de_referencia  290275 non-null  object \n",
            " 2   codigo_fipe        290275 non-null  object \n",
            " 3   autenticacao       290275 non-null  object \n",
            " 4   marca              290275 non-null  object \n",
            " 5   modelo             290275 non-null  object \n",
            " 6   combustível        290275 non-null  int64  \n",
            " 7   cambio             290275 non-null  int64  \n",
            " 8   potencia_do_motor  290275 non-null  float64\n",
            " 9   ano modelo         290275 non-null  int64  \n",
            " 10  preco_medio_brl    290275 non-null  float64\n",
            " 11  idade_em_anos      290275 non-null  int64  \n",
            " 12  cd_marca_modelo    290275 non-null  int64  \n",
            "dtypes: float64(2), int64(6), object(5)\n",
            "memory usage: 28.8+ MB\n"
          ]
        }
      ]
    },
    {
      "cell_type": "code",
      "source": [
        "#criando novo dataframe somente com as colunas preditoras e target. E realizando a ordenação das colunas"
      ],
      "metadata": {
        "id": "CUTX_7YTvVa8"
      },
      "execution_count": null,
      "outputs": []
    },
    {
      "cell_type": "code",
      "source": [
        "df.head()"
      ],
      "metadata": {
        "id": "G7j0hTa4pBsw",
        "colab": {
          "base_uri": "https://localhost:8080/",
          "height": 374
        },
        "outputId": "b423a4e3-54ab-44d4-e85d-699d58adb35c"
      },
      "execution_count": 23,
      "outputs": [
        {
          "output_type": "execute_result",
          "data": {
            "text/plain": [
              "   ano_de_referencia mes_de_referencia codigo_fipe autenticacao  marca  \\\n",
              "0               2022           January    038001-6   vwmrywl5qs  Acura   \n",
              "1               2022           January    038001-6   t9mt723qhz  Acura   \n",
              "2               2022           January    038001-6   tr5wv4z21g  Acura   \n",
              "3               2022           January    038001-6   s2xxsjz3mt  Acura   \n",
              "4               2022           January    038001-6   rtm9gj7zk8  Acura   \n",
              "\n",
              "    modelo  combustível  cambio  potencia_do_motor  ano modelo  \\\n",
              "0  NSX 3.0            1       0                3.0        1995   \n",
              "1  NSX 3.0            1       0                3.0        1994   \n",
              "2  NSX 3.0            1       0                3.0        1993   \n",
              "3  NSX 3.0            1       0                3.0        1992   \n",
              "4  NSX 3.0            1       0                3.0        1991   \n",
              "\n",
              "   preco_medio_brl  idade_em_anos  cd_marca_modelo  \n",
              "0          43779.0             28             3566  \n",
              "1          42244.0             29             3566  \n",
              "2          40841.0             30             3566  \n",
              "3          39028.0             31             3566  \n",
              "4          35678.0             32             3566  "
            ],
            "text/html": [
              "\n",
              "  <div id=\"df-88a4c2ab-a6a3-49cd-8f54-fcb69866d8a4\">\n",
              "    <div class=\"colab-df-container\">\n",
              "      <div>\n",
              "<style scoped>\n",
              "    .dataframe tbody tr th:only-of-type {\n",
              "        vertical-align: middle;\n",
              "    }\n",
              "\n",
              "    .dataframe tbody tr th {\n",
              "        vertical-align: top;\n",
              "    }\n",
              "\n",
              "    .dataframe thead th {\n",
              "        text-align: right;\n",
              "    }\n",
              "</style>\n",
              "<table border=\"1\" class=\"dataframe\">\n",
              "  <thead>\n",
              "    <tr style=\"text-align: right;\">\n",
              "      <th></th>\n",
              "      <th>ano_de_referencia</th>\n",
              "      <th>mes_de_referencia</th>\n",
              "      <th>codigo_fipe</th>\n",
              "      <th>autenticacao</th>\n",
              "      <th>marca</th>\n",
              "      <th>modelo</th>\n",
              "      <th>combustível</th>\n",
              "      <th>cambio</th>\n",
              "      <th>potencia_do_motor</th>\n",
              "      <th>ano modelo</th>\n",
              "      <th>preco_medio_brl</th>\n",
              "      <th>idade_em_anos</th>\n",
              "      <th>cd_marca_modelo</th>\n",
              "    </tr>\n",
              "  </thead>\n",
              "  <tbody>\n",
              "    <tr>\n",
              "      <th>0</th>\n",
              "      <td>2022</td>\n",
              "      <td>January</td>\n",
              "      <td>038001-6</td>\n",
              "      <td>vwmrywl5qs</td>\n",
              "      <td>Acura</td>\n",
              "      <td>NSX 3.0</td>\n",
              "      <td>1</td>\n",
              "      <td>0</td>\n",
              "      <td>3.0</td>\n",
              "      <td>1995</td>\n",
              "      <td>43779.0</td>\n",
              "      <td>28</td>\n",
              "      <td>3566</td>\n",
              "    </tr>\n",
              "    <tr>\n",
              "      <th>1</th>\n",
              "      <td>2022</td>\n",
              "      <td>January</td>\n",
              "      <td>038001-6</td>\n",
              "      <td>t9mt723qhz</td>\n",
              "      <td>Acura</td>\n",
              "      <td>NSX 3.0</td>\n",
              "      <td>1</td>\n",
              "      <td>0</td>\n",
              "      <td>3.0</td>\n",
              "      <td>1994</td>\n",
              "      <td>42244.0</td>\n",
              "      <td>29</td>\n",
              "      <td>3566</td>\n",
              "    </tr>\n",
              "    <tr>\n",
              "      <th>2</th>\n",
              "      <td>2022</td>\n",
              "      <td>January</td>\n",
              "      <td>038001-6</td>\n",
              "      <td>tr5wv4z21g</td>\n",
              "      <td>Acura</td>\n",
              "      <td>NSX 3.0</td>\n",
              "      <td>1</td>\n",
              "      <td>0</td>\n",
              "      <td>3.0</td>\n",
              "      <td>1993</td>\n",
              "      <td>40841.0</td>\n",
              "      <td>30</td>\n",
              "      <td>3566</td>\n",
              "    </tr>\n",
              "    <tr>\n",
              "      <th>3</th>\n",
              "      <td>2022</td>\n",
              "      <td>January</td>\n",
              "      <td>038001-6</td>\n",
              "      <td>s2xxsjz3mt</td>\n",
              "      <td>Acura</td>\n",
              "      <td>NSX 3.0</td>\n",
              "      <td>1</td>\n",
              "      <td>0</td>\n",
              "      <td>3.0</td>\n",
              "      <td>1992</td>\n",
              "      <td>39028.0</td>\n",
              "      <td>31</td>\n",
              "      <td>3566</td>\n",
              "    </tr>\n",
              "    <tr>\n",
              "      <th>4</th>\n",
              "      <td>2022</td>\n",
              "      <td>January</td>\n",
              "      <td>038001-6</td>\n",
              "      <td>rtm9gj7zk8</td>\n",
              "      <td>Acura</td>\n",
              "      <td>NSX 3.0</td>\n",
              "      <td>1</td>\n",
              "      <td>0</td>\n",
              "      <td>3.0</td>\n",
              "      <td>1991</td>\n",
              "      <td>35678.0</td>\n",
              "      <td>32</td>\n",
              "      <td>3566</td>\n",
              "    </tr>\n",
              "  </tbody>\n",
              "</table>\n",
              "</div>\n",
              "      <button class=\"colab-df-convert\" onclick=\"convertToInteractive('df-88a4c2ab-a6a3-49cd-8f54-fcb69866d8a4')\"\n",
              "              title=\"Convert this dataframe to an interactive table.\"\n",
              "              style=\"display:none;\">\n",
              "        \n",
              "  <svg xmlns=\"http://www.w3.org/2000/svg\" height=\"24px\"viewBox=\"0 0 24 24\"\n",
              "       width=\"24px\">\n",
              "    <path d=\"M0 0h24v24H0V0z\" fill=\"none\"/>\n",
              "    <path d=\"M18.56 5.44l.94 2.06.94-2.06 2.06-.94-2.06-.94-.94-2.06-.94 2.06-2.06.94zm-11 1L8.5 8.5l.94-2.06 2.06-.94-2.06-.94L8.5 2.5l-.94 2.06-2.06.94zm10 10l.94 2.06.94-2.06 2.06-.94-2.06-.94-.94-2.06-.94 2.06-2.06.94z\"/><path d=\"M17.41 7.96l-1.37-1.37c-.4-.4-.92-.59-1.43-.59-.52 0-1.04.2-1.43.59L10.3 9.45l-7.72 7.72c-.78.78-.78 2.05 0 2.83L4 21.41c.39.39.9.59 1.41.59.51 0 1.02-.2 1.41-.59l7.78-7.78 2.81-2.81c.8-.78.8-2.07 0-2.86zM5.41 20L4 18.59l7.72-7.72 1.47 1.35L5.41 20z\"/>\n",
              "  </svg>\n",
              "      </button>\n",
              "      \n",
              "  <style>\n",
              "    .colab-df-container {\n",
              "      display:flex;\n",
              "      flex-wrap:wrap;\n",
              "      gap: 12px;\n",
              "    }\n",
              "\n",
              "    .colab-df-convert {\n",
              "      background-color: #E8F0FE;\n",
              "      border: none;\n",
              "      border-radius: 50%;\n",
              "      cursor: pointer;\n",
              "      display: none;\n",
              "      fill: #1967D2;\n",
              "      height: 32px;\n",
              "      padding: 0 0 0 0;\n",
              "      width: 32px;\n",
              "    }\n",
              "\n",
              "    .colab-df-convert:hover {\n",
              "      background-color: #E2EBFA;\n",
              "      box-shadow: 0px 1px 2px rgba(60, 64, 67, 0.3), 0px 1px 3px 1px rgba(60, 64, 67, 0.15);\n",
              "      fill: #174EA6;\n",
              "    }\n",
              "\n",
              "    [theme=dark] .colab-df-convert {\n",
              "      background-color: #3B4455;\n",
              "      fill: #D2E3FC;\n",
              "    }\n",
              "\n",
              "    [theme=dark] .colab-df-convert:hover {\n",
              "      background-color: #434B5C;\n",
              "      box-shadow: 0px 1px 3px 1px rgba(0, 0, 0, 0.15);\n",
              "      filter: drop-shadow(0px 1px 2px rgba(0, 0, 0, 0.3));\n",
              "      fill: #FFFFFF;\n",
              "    }\n",
              "  </style>\n",
              "\n",
              "      <script>\n",
              "        const buttonEl =\n",
              "          document.querySelector('#df-88a4c2ab-a6a3-49cd-8f54-fcb69866d8a4 button.colab-df-convert');\n",
              "        buttonEl.style.display =\n",
              "          google.colab.kernel.accessAllowed ? 'block' : 'none';\n",
              "\n",
              "        async function convertToInteractive(key) {\n",
              "          const element = document.querySelector('#df-88a4c2ab-a6a3-49cd-8f54-fcb69866d8a4');\n",
              "          const dataTable =\n",
              "            await google.colab.kernel.invokeFunction('convertToInteractive',\n",
              "                                                     [key], {});\n",
              "          if (!dataTable) return;\n",
              "\n",
              "          const docLinkHtml = 'Like what you see? Visit the ' +\n",
              "            '<a target=\"_blank\" href=https://colab.research.google.com/notebooks/data_table.ipynb>data table notebook</a>'\n",
              "            + ' to learn more about interactive tables.';\n",
              "          element.innerHTML = '';\n",
              "          dataTable['output_type'] = 'display_data';\n",
              "          await google.colab.output.renderOutput(dataTable, element);\n",
              "          const docLink = document.createElement('div');\n",
              "          docLink.innerHTML = docLinkHtml;\n",
              "          element.appendChild(docLink);\n",
              "        }\n",
              "      </script>\n",
              "    </div>\n",
              "  </div>\n",
              "  "
            ]
          },
          "metadata": {},
          "execution_count": 23
        }
      ]
    },
    {
      "cell_type": "code",
      "source": [
        "df2 = df[['combustível', 'cambio', 'potencia_do_motor', 'preco_medio_brl', 'idade_em_anos', 'cd_marca_modelo']]"
      ],
      "metadata": {
        "id": "VqbRRvumpBqG"
      },
      "execution_count": 25,
      "outputs": []
    },
    {
      "cell_type": "code",
      "source": [
        "colunas_ordenadas = ['cd_marca_modelo', 'combustível', 'cambio', 'potencia_do_motor', 'idade_em_anos', 'preco_medio_brl']"
      ],
      "metadata": {
        "id": "dq4woCEdk9sZ"
      },
      "execution_count": 26,
      "outputs": []
    },
    {
      "cell_type": "code",
      "source": [
        "df2 = df2[colunas_ordenadas]"
      ],
      "metadata": {
        "id": "CWfHnN4glFcA"
      },
      "execution_count": 27,
      "outputs": []
    },
    {
      "cell_type": "markdown",
      "source": [
        "#aplicando modelo de Regressão Linear"
      ],
      "metadata": {
        "id": "0L78ht2BfSgt"
      }
    },
    {
      "cell_type": "code",
      "source": [
        "X_treinamento, X_teste, y_treinamento, y_teste = train_test_split(df2[['cd_marca_modelo','combustível', 'cambio', 'potencia_do_motor',\n",
        "       'idade_em_anos']], df2['preco_medio_brl'], test_size = 0.2, random_state = 1)\n",
        "X_treinamento.shape, X_teste.shape"
      ],
      "metadata": {
        "id": "jpEwqyxgENwc",
        "colab": {
          "base_uri": "https://localhost:8080/"
        },
        "outputId": "0ff42e88-96c2-4856-a336-7868cecf74e4"
      },
      "execution_count": 135,
      "outputs": [
        {
          "output_type": "execute_result",
          "data": {
            "text/plain": [
              "((232220, 5), (58055, 5))"
            ]
          },
          "metadata": {},
          "execution_count": 135
        }
      ]
    },
    {
      "cell_type": "code",
      "source": [
        "regressao_linear = LinearRegression()"
      ],
      "metadata": {
        "id": "4J1pcT0LfP3O"
      },
      "execution_count": 136,
      "outputs": []
    },
    {
      "cell_type": "code",
      "source": [
        "regressao_linear.fit(X_treinamento, y_treinamento)"
      ],
      "metadata": {
        "id": "gawcbf81ueoE",
        "colab": {
          "base_uri": "https://localhost:8080/"
        },
        "outputId": "b6b064a1-5fbd-4a17-ea71-44ce9127ba44"
      },
      "execution_count": 137,
      "outputs": [
        {
          "output_type": "execute_result",
          "data": {
            "text/plain": [
              "LinearRegression()"
            ]
          },
          "metadata": {},
          "execution_count": 137
        }
      ]
    },
    {
      "cell_type": "code",
      "source": [
        "r2_treino = regressao_linear.score(X_treinamento, y_treinamento)"
      ],
      "metadata": {
        "id": "Dn52sJSQ1k7L"
      },
      "execution_count": 138,
      "outputs": []
    },
    {
      "cell_type": "code",
      "source": [
        "print('R² Treino:', r2_treino)"
      ],
      "metadata": {
        "id": "LdHfGtCO17zD",
        "colab": {
          "base_uri": "https://localhost:8080/"
        },
        "outputId": "b7e55cec-8676-48fc-d30a-eb85077c3c46"
      },
      "execution_count": 139,
      "outputs": [
        {
          "output_type": "stream",
          "name": "stdout",
          "text": [
            "R² Treino: 0.24803369048674984\n"
          ]
        }
      ]
    },
    {
      "cell_type": "code",
      "source": [
        "print(regressao_linear.coef_, regressao_linear.intercept_)"
      ],
      "metadata": {
        "id": "kaSen2od2Cx1",
        "colab": {
          "base_uri": "https://localhost:8080/"
        },
        "outputId": "ded1bb71-a1a1-4ac3-a489-d65123d4d74e"
      },
      "execution_count": 140,
      "outputs": [
        {
          "output_type": "stream",
          "name": "stdout",
          "text": [
            "[     0.         -50355.30261584 -45830.72109279 123867.55857926\n",
            " -12863.18790868] 95070.02608468499\n"
          ]
        }
      ]
    },
    {
      "cell_type": "code",
      "source": [
        "prevs = regressao_linear.predict(X_teste)\n",
        "prevs"
      ],
      "metadata": {
        "id": "y4uCAhk22it8",
        "colab": {
          "base_uri": "https://localhost:8080/"
        },
        "outputId": "d453c9fc-66d7-4591-9ea0-3190dffd832d"
      },
      "execution_count": 141,
      "outputs": [
        {
          "output_type": "execute_result",
          "data": {
            "text/plain": [
              "array([ -78200.44847053,   10317.41667086, -127271.03985148, ...,\n",
              "         15081.73717837,  246619.11953457,  167152.98589585])"
            ]
          },
          "metadata": {},
          "execution_count": 141
        }
      ]
    },
    {
      "cell_type": "code",
      "source": [
        "r2_teste = metrics.r2_score(y_teste,prevs)\n",
        "print('R² teste:', r2_teste)"
      ],
      "metadata": {
        "id": "Akpxs7Bp2irP",
        "colab": {
          "base_uri": "https://localhost:8080/"
        },
        "outputId": "662de8ff-7aee-4c39-f016-91bef61708c7"
      },
      "execution_count": 142,
      "outputs": [
        {
          "output_type": "stream",
          "name": "stdout",
          "text": [
            "R² teste: 0.25124267724779004\n"
          ]
        }
      ]
    },
    {
      "cell_type": "code",
      "source": [
        "treino_ap1_2 = sm.add_constant(X_treinamento)\n",
        "treino_ap1_2.head()"
      ],
      "metadata": {
        "id": "1_JX4iw02ioc",
        "colab": {
          "base_uri": "https://localhost:8080/",
          "height": 261
        },
        "outputId": "3f1baf37-c282-40e9-a781-9c012743cd0d"
      },
      "execution_count": 143,
      "outputs": [
        {
          "output_type": "stream",
          "name": "stderr",
          "text": [
            "/usr/local/lib/python3.8/dist-packages/statsmodels/tsa/tsatools.py:142: FutureWarning: In a future version of pandas all arguments of concat except for the argument 'objs' will be keyword-only\n",
            "  x = pd.concat(x[::order], 1)\n"
          ]
        },
        {
          "output_type": "execute_result",
          "data": {
            "text/plain": [
              "        cd_marca_modelo  combustível  cambio  potencia_do_motor  idade_em_anos\n",
              "91320              3566            1       0                1.6              9\n",
              "27264              3566            2       0                2.8             23\n",
              "18671              3566            1       0                1.6             13\n",
              "212976             3566            1       0                2.0             12\n",
              "54843              3566            1       0                1.3             19"
            ],
            "text/html": [
              "\n",
              "  <div id=\"df-15162d17-d356-414e-a57f-1c1ea51b3264\">\n",
              "    <div class=\"colab-df-container\">\n",
              "      <div>\n",
              "<style scoped>\n",
              "    .dataframe tbody tr th:only-of-type {\n",
              "        vertical-align: middle;\n",
              "    }\n",
              "\n",
              "    .dataframe tbody tr th {\n",
              "        vertical-align: top;\n",
              "    }\n",
              "\n",
              "    .dataframe thead th {\n",
              "        text-align: right;\n",
              "    }\n",
              "</style>\n",
              "<table border=\"1\" class=\"dataframe\">\n",
              "  <thead>\n",
              "    <tr style=\"text-align: right;\">\n",
              "      <th></th>\n",
              "      <th>cd_marca_modelo</th>\n",
              "      <th>combustível</th>\n",
              "      <th>cambio</th>\n",
              "      <th>potencia_do_motor</th>\n",
              "      <th>idade_em_anos</th>\n",
              "    </tr>\n",
              "  </thead>\n",
              "  <tbody>\n",
              "    <tr>\n",
              "      <th>91320</th>\n",
              "      <td>3566</td>\n",
              "      <td>1</td>\n",
              "      <td>0</td>\n",
              "      <td>1.6</td>\n",
              "      <td>9</td>\n",
              "    </tr>\n",
              "    <tr>\n",
              "      <th>27264</th>\n",
              "      <td>3566</td>\n",
              "      <td>2</td>\n",
              "      <td>0</td>\n",
              "      <td>2.8</td>\n",
              "      <td>23</td>\n",
              "    </tr>\n",
              "    <tr>\n",
              "      <th>18671</th>\n",
              "      <td>3566</td>\n",
              "      <td>1</td>\n",
              "      <td>0</td>\n",
              "      <td>1.6</td>\n",
              "      <td>13</td>\n",
              "    </tr>\n",
              "    <tr>\n",
              "      <th>212976</th>\n",
              "      <td>3566</td>\n",
              "      <td>1</td>\n",
              "      <td>0</td>\n",
              "      <td>2.0</td>\n",
              "      <td>12</td>\n",
              "    </tr>\n",
              "    <tr>\n",
              "      <th>54843</th>\n",
              "      <td>3566</td>\n",
              "      <td>1</td>\n",
              "      <td>0</td>\n",
              "      <td>1.3</td>\n",
              "      <td>19</td>\n",
              "    </tr>\n",
              "  </tbody>\n",
              "</table>\n",
              "</div>\n",
              "      <button class=\"colab-df-convert\" onclick=\"convertToInteractive('df-15162d17-d356-414e-a57f-1c1ea51b3264')\"\n",
              "              title=\"Convert this dataframe to an interactive table.\"\n",
              "              style=\"display:none;\">\n",
              "        \n",
              "  <svg xmlns=\"http://www.w3.org/2000/svg\" height=\"24px\"viewBox=\"0 0 24 24\"\n",
              "       width=\"24px\">\n",
              "    <path d=\"M0 0h24v24H0V0z\" fill=\"none\"/>\n",
              "    <path d=\"M18.56 5.44l.94 2.06.94-2.06 2.06-.94-2.06-.94-.94-2.06-.94 2.06-2.06.94zm-11 1L8.5 8.5l.94-2.06 2.06-.94-2.06-.94L8.5 2.5l-.94 2.06-2.06.94zm10 10l.94 2.06.94-2.06 2.06-.94-2.06-.94-.94-2.06-.94 2.06-2.06.94z\"/><path d=\"M17.41 7.96l-1.37-1.37c-.4-.4-.92-.59-1.43-.59-.52 0-1.04.2-1.43.59L10.3 9.45l-7.72 7.72c-.78.78-.78 2.05 0 2.83L4 21.41c.39.39.9.59 1.41.59.51 0 1.02-.2 1.41-.59l7.78-7.78 2.81-2.81c.8-.78.8-2.07 0-2.86zM5.41 20L4 18.59l7.72-7.72 1.47 1.35L5.41 20z\"/>\n",
              "  </svg>\n",
              "      </button>\n",
              "      \n",
              "  <style>\n",
              "    .colab-df-container {\n",
              "      display:flex;\n",
              "      flex-wrap:wrap;\n",
              "      gap: 12px;\n",
              "    }\n",
              "\n",
              "    .colab-df-convert {\n",
              "      background-color: #E8F0FE;\n",
              "      border: none;\n",
              "      border-radius: 50%;\n",
              "      cursor: pointer;\n",
              "      display: none;\n",
              "      fill: #1967D2;\n",
              "      height: 32px;\n",
              "      padding: 0 0 0 0;\n",
              "      width: 32px;\n",
              "    }\n",
              "\n",
              "    .colab-df-convert:hover {\n",
              "      background-color: #E2EBFA;\n",
              "      box-shadow: 0px 1px 2px rgba(60, 64, 67, 0.3), 0px 1px 3px 1px rgba(60, 64, 67, 0.15);\n",
              "      fill: #174EA6;\n",
              "    }\n",
              "\n",
              "    [theme=dark] .colab-df-convert {\n",
              "      background-color: #3B4455;\n",
              "      fill: #D2E3FC;\n",
              "    }\n",
              "\n",
              "    [theme=dark] .colab-df-convert:hover {\n",
              "      background-color: #434B5C;\n",
              "      box-shadow: 0px 1px 3px 1px rgba(0, 0, 0, 0.15);\n",
              "      filter: drop-shadow(0px 1px 2px rgba(0, 0, 0, 0.3));\n",
              "      fill: #FFFFFF;\n",
              "    }\n",
              "  </style>\n",
              "\n",
              "      <script>\n",
              "        const buttonEl =\n",
              "          document.querySelector('#df-15162d17-d356-414e-a57f-1c1ea51b3264 button.colab-df-convert');\n",
              "        buttonEl.style.display =\n",
              "          google.colab.kernel.accessAllowed ? 'block' : 'none';\n",
              "\n",
              "        async function convertToInteractive(key) {\n",
              "          const element = document.querySelector('#df-15162d17-d356-414e-a57f-1c1ea51b3264');\n",
              "          const dataTable =\n",
              "            await google.colab.kernel.invokeFunction('convertToInteractive',\n",
              "                                                     [key], {});\n",
              "          if (!dataTable) return;\n",
              "\n",
              "          const docLinkHtml = 'Like what you see? Visit the ' +\n",
              "            '<a target=\"_blank\" href=https://colab.research.google.com/notebooks/data_table.ipynb>data table notebook</a>'\n",
              "            + ' to learn more about interactive tables.';\n",
              "          element.innerHTML = '';\n",
              "          dataTable['output_type'] = 'display_data';\n",
              "          await google.colab.output.renderOutput(dataTable, element);\n",
              "          const docLink = document.createElement('div');\n",
              "          docLink.innerHTML = docLinkHtml;\n",
              "          element.appendChild(docLink);\n",
              "        }\n",
              "      </script>\n",
              "    </div>\n",
              "  </div>\n",
              "  "
            ]
          },
          "metadata": {},
          "execution_count": 143
        }
      ]
    },
    {
      "cell_type": "code",
      "source": [
        "r1 = sm.OLS(y_treinamento, treino_ap1_2).fit()\n",
        "r1.summary()"
      ],
      "metadata": {
        "id": "3KbrRbeq2il0",
        "colab": {
          "base_uri": "https://localhost:8080/",
          "height": 550
        },
        "outputId": "d04425ae-9593-4000-c7c0-98a24fd79bec"
      },
      "execution_count": 144,
      "outputs": [
        {
          "output_type": "execute_result",
          "data": {
            "text/plain": [
              "<class 'statsmodels.iolib.summary.Summary'>\n",
              "\"\"\"\n",
              "                            OLS Regression Results                            \n",
              "==============================================================================\n",
              "Dep. Variable:        preco_medio_brl   R-squared:                       0.248\n",
              "Model:                            OLS   Adj. R-squared:                  0.248\n",
              "Method:                 Least Squares   F-statistic:                 1.915e+04\n",
              "Date:                Tue, 20 Dec 2022   Prob (F-statistic):               0.00\n",
              "Time:                        14:58:21   Log-Likelihood:            -3.2395e+06\n",
              "No. Observations:              232220   AIC:                         6.479e+06\n",
              "Df Residuals:                  232215   BIC:                         6.479e+06\n",
              "Df Model:                           4                                         \n",
              "Covariance Type:            nonrobust                                         \n",
              "=====================================================================================\n",
              "                        coef    std err          t      P>|t|      [0.025      0.975]\n",
              "-------------------------------------------------------------------------------------\n",
              "cd_marca_modelo      26.6601      0.631     42.279      0.000      25.424      27.896\n",
              "combustível       -5.036e+04   1350.502    -37.286      0.000    -5.3e+04   -4.77e+04\n",
              "cambio            -4.583e+04   1377.505    -33.271      0.000   -4.85e+04   -4.31e+04\n",
              "potencia_do_motor  1.239e+05    567.651    218.211      0.000    1.23e+05    1.25e+05\n",
              "idade_em_anos     -1.286e+04     66.533   -193.336      0.000    -1.3e+04   -1.27e+04\n",
              "==============================================================================\n",
              "Omnibus:                   407267.386   Durbin-Watson:                   2.002\n",
              "Prob(Omnibus):                  0.000   Jarque-Bera (JB):        541968514.119\n",
              "Skew:                          12.522   Prob(JB):                         0.00\n",
              "Kurtosis:                     238.341   Cond. No.                     8.94e+03\n",
              "==============================================================================\n",
              "\n",
              "Notes:\n",
              "[1] Standard Errors assume that the covariance matrix of the errors is correctly specified.\n",
              "[2] The condition number is large, 8.94e+03. This might indicate that there are\n",
              "strong multicollinearity or other numerical problems.\n",
              "\"\"\""
            ],
            "text/html": [
              "<table class=\"simpletable\">\n",
              "<caption>OLS Regression Results</caption>\n",
              "<tr>\n",
              "  <th>Dep. Variable:</th>     <td>preco_medio_brl</td> <th>  R-squared:         </th>  <td>   0.248</td>  \n",
              "</tr>\n",
              "<tr>\n",
              "  <th>Model:</th>                   <td>OLS</td>       <th>  Adj. R-squared:    </th>  <td>   0.248</td>  \n",
              "</tr>\n",
              "<tr>\n",
              "  <th>Method:</th>             <td>Least Squares</td>  <th>  F-statistic:       </th>  <td>1.915e+04</td> \n",
              "</tr>\n",
              "<tr>\n",
              "  <th>Date:</th>             <td>Tue, 20 Dec 2022</td> <th>  Prob (F-statistic):</th>   <td>  0.00</td>   \n",
              "</tr>\n",
              "<tr>\n",
              "  <th>Time:</th>                 <td>14:58:21</td>     <th>  Log-Likelihood:    </th> <td>-3.2395e+06</td>\n",
              "</tr>\n",
              "<tr>\n",
              "  <th>No. Observations:</th>      <td>232220</td>      <th>  AIC:               </th>  <td>6.479e+06</td> \n",
              "</tr>\n",
              "<tr>\n",
              "  <th>Df Residuals:</th>          <td>232215</td>      <th>  BIC:               </th>  <td>6.479e+06</td> \n",
              "</tr>\n",
              "<tr>\n",
              "  <th>Df Model:</th>              <td>     4</td>      <th>                     </th>      <td> </td>     \n",
              "</tr>\n",
              "<tr>\n",
              "  <th>Covariance Type:</th>      <td>nonrobust</td>    <th>                     </th>      <td> </td>     \n",
              "</tr>\n",
              "</table>\n",
              "<table class=\"simpletable\">\n",
              "<tr>\n",
              "          <td></td>             <th>coef</th>     <th>std err</th>      <th>t</th>      <th>P>|t|</th>  <th>[0.025</th>    <th>0.975]</th>  \n",
              "</tr>\n",
              "<tr>\n",
              "  <th>cd_marca_modelo</th>   <td>   26.6601</td> <td>    0.631</td> <td>   42.279</td> <td> 0.000</td> <td>   25.424</td> <td>   27.896</td>\n",
              "</tr>\n",
              "<tr>\n",
              "  <th>combustível</th>       <td>-5.036e+04</td> <td> 1350.502</td> <td>  -37.286</td> <td> 0.000</td> <td> -5.3e+04</td> <td>-4.77e+04</td>\n",
              "</tr>\n",
              "<tr>\n",
              "  <th>cambio</th>            <td>-4.583e+04</td> <td> 1377.505</td> <td>  -33.271</td> <td> 0.000</td> <td>-4.85e+04</td> <td>-4.31e+04</td>\n",
              "</tr>\n",
              "<tr>\n",
              "  <th>potencia_do_motor</th> <td> 1.239e+05</td> <td>  567.651</td> <td>  218.211</td> <td> 0.000</td> <td> 1.23e+05</td> <td> 1.25e+05</td>\n",
              "</tr>\n",
              "<tr>\n",
              "  <th>idade_em_anos</th>     <td>-1.286e+04</td> <td>   66.533</td> <td> -193.336</td> <td> 0.000</td> <td> -1.3e+04</td> <td>-1.27e+04</td>\n",
              "</tr>\n",
              "</table>\n",
              "<table class=\"simpletable\">\n",
              "<tr>\n",
              "  <th>Omnibus:</th>       <td>407267.386</td> <th>  Durbin-Watson:     </th>   <td>   2.002</td>   \n",
              "</tr>\n",
              "<tr>\n",
              "  <th>Prob(Omnibus):</th>   <td> 0.000</td>   <th>  Jarque-Bera (JB):  </th> <td>541968514.119</td>\n",
              "</tr>\n",
              "<tr>\n",
              "  <th>Skew:</th>            <td>12.522</td>   <th>  Prob(JB):          </th>   <td>    0.00</td>   \n",
              "</tr>\n",
              "<tr>\n",
              "  <th>Kurtosis:</th>        <td>238.341</td>  <th>  Cond. No.          </th>   <td>8.94e+03</td>   \n",
              "</tr>\n",
              "</table><br/><br/>Notes:<br/>[1] Standard Errors assume that the covariance matrix of the errors is correctly specified.<br/>[2] The condition number is large, 8.94e+03. This might indicate that there are<br/>strong multicollinearity or other numerical problems."
            ]
          },
          "metadata": {},
          "execution_count": 144
        }
      ]
    },
    {
      "cell_type": "code",
      "source": [],
      "metadata": {
        "id": "VkyLbQE0BdmI"
      },
      "execution_count": null,
      "outputs": []
    }
  ]
}