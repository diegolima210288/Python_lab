{
  "nbformat": 4,
  "nbformat_minor": 0,
  "metadata": {
    "colab": {
      "provenance": []
    },
    "kernelspec": {
      "name": "python3",
      "display_name": "Python 3"
    },
    "language_info": {
      "name": "python"
    }
  },
  "cells": [
    {
      "cell_type": "markdown",
      "source": [
        "**Analise exploratória e aplicação de algoritmo Árvore de Decisão no dataset Earthquakes do Kaggle**\n",
        "\n",
        "https://www.kaggle.com/datasets/thedevastator/uncovering-geophysical-insights-analyzing-usgs-e"
      ],
      "metadata": {
        "id": "xpXtJrt_Vf1f"
      }
    },
    {
      "cell_type": "code",
      "source": [
        "#importação das bibliotecas e pacotes\n",
        "\n",
        "import pandas as pd\n",
        "\n",
        "from sklearn.model_selection import train_test_split\n",
        "from sklearn.tree import DecisionTreeClassifier\n",
        "from sklearn.tree import export_graphviz\n",
        "from graphviz import Source"
      ],
      "metadata": {
        "id": "IJ6Hvj1MWsRl"
      },
      "execution_count": 19,
      "outputs": []
    },
    {
      "cell_type": "code",
      "source": [
        "#lendo o arquivo e analisando os dados\n",
        "df = pd.read_csv('/content/usgs_main.csv')\n",
        "df.head()"
      ],
      "metadata": {
        "colab": {
          "base_uri": "https://localhost:8080/",
          "height": 577
        },
        "id": "Ben2_vUGag1Q",
        "outputId": "740e9b3c-6359-4cde-f5c3-0ac59932704f"
      },
      "execution_count": 4,
      "outputs": [
        {
          "output_type": "execute_result",
          "data": {
            "text/plain": [
              "                       time   latitude   longitude  depth   mag magType   nst  \\\n",
              "0  2022-03-04T21:28:02.440Z  38.759666 -122.719666   1.61  1.24      md  14.0   \n",
              "1  2022-03-04T21:27:28.190Z  38.833832 -122.815498   1.82  1.13      md  22.0   \n",
              "2  2022-03-04T21:25:05.130Z  35.596668 -120.271332  11.57  2.31      md   5.0   \n",
              "3  2022-03-04T21:20:43.590Z  35.929167 -117.660833   3.25  0.88      ml   9.0   \n",
              "4  2022-03-04T21:19:08.215Z  62.360200 -149.634500   9.80  1.40      ml   NaN   \n",
              "\n",
              "     gap      dmin   rms  ...                   updated  \\\n",
              "0  115.0  0.004494  0.04  ...  2022-03-04T21:29:36.906Z   \n",
              "1   66.0  0.016320  0.02  ...  2022-03-04T21:29:02.128Z   \n",
              "2  178.0  0.159000  0.01  ...  2022-03-04T21:26:56.893Z   \n",
              "3   73.0  0.020530  0.13  ...  2022-03-04T21:24:10.449Z   \n",
              "4    NaN       NaN  0.52  ...  2022-03-04T21:22:15.794Z   \n",
              "\n",
              "                                place        type horizontalError depthError  \\\n",
              "0      3km SW of Anderson Springs, CA  earthquake            0.30       0.36   \n",
              "1           8km NW of The Geysers, CA  earthquake            0.19       0.53   \n",
              "2              11km SE of Shandon, CA  earthquake            3.14       3.51   \n",
              "3           22km E of Little Lake, CA  earthquake            0.33       0.74   \n",
              "4  24 km NNE of Susitna North, Alaska  earthquake             NaN       0.50   \n",
              "\n",
              "   magError  magNst     status  locationSource magSource  \n",
              "0     0.100     5.0  automatic              nc        nc  \n",
              "1     0.140     4.0  automatic              nc        nc  \n",
              "2     0.760     3.0  automatic              nc        nc  \n",
              "3     0.055    10.0  automatic              ci        ci  \n",
              "4       NaN     NaN  automatic              ak        ak  \n",
              "\n",
              "[5 rows x 22 columns]"
            ],
            "text/html": [
              "\n",
              "  <div id=\"df-11501590-e364-4434-93d2-65873b6277ca\">\n",
              "    <div class=\"colab-df-container\">\n",
              "      <div>\n",
              "<style scoped>\n",
              "    .dataframe tbody tr th:only-of-type {\n",
              "        vertical-align: middle;\n",
              "    }\n",
              "\n",
              "    .dataframe tbody tr th {\n",
              "        vertical-align: top;\n",
              "    }\n",
              "\n",
              "    .dataframe thead th {\n",
              "        text-align: right;\n",
              "    }\n",
              "</style>\n",
              "<table border=\"1\" class=\"dataframe\">\n",
              "  <thead>\n",
              "    <tr style=\"text-align: right;\">\n",
              "      <th></th>\n",
              "      <th>time</th>\n",
              "      <th>latitude</th>\n",
              "      <th>longitude</th>\n",
              "      <th>depth</th>\n",
              "      <th>mag</th>\n",
              "      <th>magType</th>\n",
              "      <th>nst</th>\n",
              "      <th>gap</th>\n",
              "      <th>dmin</th>\n",
              "      <th>rms</th>\n",
              "      <th>...</th>\n",
              "      <th>updated</th>\n",
              "      <th>place</th>\n",
              "      <th>type</th>\n",
              "      <th>horizontalError</th>\n",
              "      <th>depthError</th>\n",
              "      <th>magError</th>\n",
              "      <th>magNst</th>\n",
              "      <th>status</th>\n",
              "      <th>locationSource</th>\n",
              "      <th>magSource</th>\n",
              "    </tr>\n",
              "  </thead>\n",
              "  <tbody>\n",
              "    <tr>\n",
              "      <th>0</th>\n",
              "      <td>2022-03-04T21:28:02.440Z</td>\n",
              "      <td>38.759666</td>\n",
              "      <td>-122.719666</td>\n",
              "      <td>1.61</td>\n",
              "      <td>1.24</td>\n",
              "      <td>md</td>\n",
              "      <td>14.0</td>\n",
              "      <td>115.0</td>\n",
              "      <td>0.004494</td>\n",
              "      <td>0.04</td>\n",
              "      <td>...</td>\n",
              "      <td>2022-03-04T21:29:36.906Z</td>\n",
              "      <td>3km SW of Anderson Springs, CA</td>\n",
              "      <td>earthquake</td>\n",
              "      <td>0.30</td>\n",
              "      <td>0.36</td>\n",
              "      <td>0.100</td>\n",
              "      <td>5.0</td>\n",
              "      <td>automatic</td>\n",
              "      <td>nc</td>\n",
              "      <td>nc</td>\n",
              "    </tr>\n",
              "    <tr>\n",
              "      <th>1</th>\n",
              "      <td>2022-03-04T21:27:28.190Z</td>\n",
              "      <td>38.833832</td>\n",
              "      <td>-122.815498</td>\n",
              "      <td>1.82</td>\n",
              "      <td>1.13</td>\n",
              "      <td>md</td>\n",
              "      <td>22.0</td>\n",
              "      <td>66.0</td>\n",
              "      <td>0.016320</td>\n",
              "      <td>0.02</td>\n",
              "      <td>...</td>\n",
              "      <td>2022-03-04T21:29:02.128Z</td>\n",
              "      <td>8km NW of The Geysers, CA</td>\n",
              "      <td>earthquake</td>\n",
              "      <td>0.19</td>\n",
              "      <td>0.53</td>\n",
              "      <td>0.140</td>\n",
              "      <td>4.0</td>\n",
              "      <td>automatic</td>\n",
              "      <td>nc</td>\n",
              "      <td>nc</td>\n",
              "    </tr>\n",
              "    <tr>\n",
              "      <th>2</th>\n",
              "      <td>2022-03-04T21:25:05.130Z</td>\n",
              "      <td>35.596668</td>\n",
              "      <td>-120.271332</td>\n",
              "      <td>11.57</td>\n",
              "      <td>2.31</td>\n",
              "      <td>md</td>\n",
              "      <td>5.0</td>\n",
              "      <td>178.0</td>\n",
              "      <td>0.159000</td>\n",
              "      <td>0.01</td>\n",
              "      <td>...</td>\n",
              "      <td>2022-03-04T21:26:56.893Z</td>\n",
              "      <td>11km SE of Shandon, CA</td>\n",
              "      <td>earthquake</td>\n",
              "      <td>3.14</td>\n",
              "      <td>3.51</td>\n",
              "      <td>0.760</td>\n",
              "      <td>3.0</td>\n",
              "      <td>automatic</td>\n",
              "      <td>nc</td>\n",
              "      <td>nc</td>\n",
              "    </tr>\n",
              "    <tr>\n",
              "      <th>3</th>\n",
              "      <td>2022-03-04T21:20:43.590Z</td>\n",
              "      <td>35.929167</td>\n",
              "      <td>-117.660833</td>\n",
              "      <td>3.25</td>\n",
              "      <td>0.88</td>\n",
              "      <td>ml</td>\n",
              "      <td>9.0</td>\n",
              "      <td>73.0</td>\n",
              "      <td>0.020530</td>\n",
              "      <td>0.13</td>\n",
              "      <td>...</td>\n",
              "      <td>2022-03-04T21:24:10.449Z</td>\n",
              "      <td>22km E of Little Lake, CA</td>\n",
              "      <td>earthquake</td>\n",
              "      <td>0.33</td>\n",
              "      <td>0.74</td>\n",
              "      <td>0.055</td>\n",
              "      <td>10.0</td>\n",
              "      <td>automatic</td>\n",
              "      <td>ci</td>\n",
              "      <td>ci</td>\n",
              "    </tr>\n",
              "    <tr>\n",
              "      <th>4</th>\n",
              "      <td>2022-03-04T21:19:08.215Z</td>\n",
              "      <td>62.360200</td>\n",
              "      <td>-149.634500</td>\n",
              "      <td>9.80</td>\n",
              "      <td>1.40</td>\n",
              "      <td>ml</td>\n",
              "      <td>NaN</td>\n",
              "      <td>NaN</td>\n",
              "      <td>NaN</td>\n",
              "      <td>0.52</td>\n",
              "      <td>...</td>\n",
              "      <td>2022-03-04T21:22:15.794Z</td>\n",
              "      <td>24 km NNE of Susitna North, Alaska</td>\n",
              "      <td>earthquake</td>\n",
              "      <td>NaN</td>\n",
              "      <td>0.50</td>\n",
              "      <td>NaN</td>\n",
              "      <td>NaN</td>\n",
              "      <td>automatic</td>\n",
              "      <td>ak</td>\n",
              "      <td>ak</td>\n",
              "    </tr>\n",
              "  </tbody>\n",
              "</table>\n",
              "<p>5 rows × 22 columns</p>\n",
              "</div>\n",
              "      <button class=\"colab-df-convert\" onclick=\"convertToInteractive('df-11501590-e364-4434-93d2-65873b6277ca')\"\n",
              "              title=\"Convert this dataframe to an interactive table.\"\n",
              "              style=\"display:none;\">\n",
              "        \n",
              "  <svg xmlns=\"http://www.w3.org/2000/svg\" height=\"24px\"viewBox=\"0 0 24 24\"\n",
              "       width=\"24px\">\n",
              "    <path d=\"M0 0h24v24H0V0z\" fill=\"none\"/>\n",
              "    <path d=\"M18.56 5.44l.94 2.06.94-2.06 2.06-.94-2.06-.94-.94-2.06-.94 2.06-2.06.94zm-11 1L8.5 8.5l.94-2.06 2.06-.94-2.06-.94L8.5 2.5l-.94 2.06-2.06.94zm10 10l.94 2.06.94-2.06 2.06-.94-2.06-.94-.94-2.06-.94 2.06-2.06.94z\"/><path d=\"M17.41 7.96l-1.37-1.37c-.4-.4-.92-.59-1.43-.59-.52 0-1.04.2-1.43.59L10.3 9.45l-7.72 7.72c-.78.78-.78 2.05 0 2.83L4 21.41c.39.39.9.59 1.41.59.51 0 1.02-.2 1.41-.59l7.78-7.78 2.81-2.81c.8-.78.8-2.07 0-2.86zM5.41 20L4 18.59l7.72-7.72 1.47 1.35L5.41 20z\"/>\n",
              "  </svg>\n",
              "      </button>\n",
              "      \n",
              "  <style>\n",
              "    .colab-df-container {\n",
              "      display:flex;\n",
              "      flex-wrap:wrap;\n",
              "      gap: 12px;\n",
              "    }\n",
              "\n",
              "    .colab-df-convert {\n",
              "      background-color: #E8F0FE;\n",
              "      border: none;\n",
              "      border-radius: 50%;\n",
              "      cursor: pointer;\n",
              "      display: none;\n",
              "      fill: #1967D2;\n",
              "      height: 32px;\n",
              "      padding: 0 0 0 0;\n",
              "      width: 32px;\n",
              "    }\n",
              "\n",
              "    .colab-df-convert:hover {\n",
              "      background-color: #E2EBFA;\n",
              "      box-shadow: 0px 1px 2px rgba(60, 64, 67, 0.3), 0px 1px 3px 1px rgba(60, 64, 67, 0.15);\n",
              "      fill: #174EA6;\n",
              "    }\n",
              "\n",
              "    [theme=dark] .colab-df-convert {\n",
              "      background-color: #3B4455;\n",
              "      fill: #D2E3FC;\n",
              "    }\n",
              "\n",
              "    [theme=dark] .colab-df-convert:hover {\n",
              "      background-color: #434B5C;\n",
              "      box-shadow: 0px 1px 3px 1px rgba(0, 0, 0, 0.15);\n",
              "      filter: drop-shadow(0px 1px 2px rgba(0, 0, 0, 0.3));\n",
              "      fill: #FFFFFF;\n",
              "    }\n",
              "  </style>\n",
              "\n",
              "      <script>\n",
              "        const buttonEl =\n",
              "          document.querySelector('#df-11501590-e364-4434-93d2-65873b6277ca button.colab-df-convert');\n",
              "        buttonEl.style.display =\n",
              "          google.colab.kernel.accessAllowed ? 'block' : 'none';\n",
              "\n",
              "        async function convertToInteractive(key) {\n",
              "          const element = document.querySelector('#df-11501590-e364-4434-93d2-65873b6277ca');\n",
              "          const dataTable =\n",
              "            await google.colab.kernel.invokeFunction('convertToInteractive',\n",
              "                                                     [key], {});\n",
              "          if (!dataTable) return;\n",
              "\n",
              "          const docLinkHtml = 'Like what you see? Visit the ' +\n",
              "            '<a target=\"_blank\" href=https://colab.research.google.com/notebooks/data_table.ipynb>data table notebook</a>'\n",
              "            + ' to learn more about interactive tables.';\n",
              "          element.innerHTML = '';\n",
              "          dataTable['output_type'] = 'display_data';\n",
              "          await google.colab.output.renderOutput(dataTable, element);\n",
              "          const docLink = document.createElement('div');\n",
              "          docLink.innerHTML = docLinkHtml;\n",
              "          element.appendChild(docLink);\n",
              "        }\n",
              "      </script>\n",
              "    </div>\n",
              "  </div>\n",
              "  "
            ]
          },
          "metadata": {},
          "execution_count": 4
        }
      ]
    },
    {
      "cell_type": "code",
      "source": [
        "#verificando tamanho do dataset\n",
        "df.shape"
      ],
      "metadata": {
        "colab": {
          "base_uri": "https://localhost:8080/"
        },
        "id": "vFXCjNFya2dF",
        "outputId": "feb032b9-a04f-4a94-b93e-0d97973a38b7"
      },
      "execution_count": 5,
      "outputs": [
        {
          "output_type": "execute_result",
          "data": {
            "text/plain": [
              "(75810, 22)"
            ]
          },
          "metadata": {},
          "execution_count": 5
        }
      ]
    },
    {
      "cell_type": "code",
      "source": [
        "#verificando o nome das colunas\n",
        "df.columns"
      ],
      "metadata": {
        "colab": {
          "base_uri": "https://localhost:8080/"
        },
        "id": "UiCVuFPda-z1",
        "outputId": "1c030578-2efc-4575-f5c3-b570266ca966"
      },
      "execution_count": 6,
      "outputs": [
        {
          "output_type": "execute_result",
          "data": {
            "text/plain": [
              "Index(['time', 'latitude', 'longitude', 'depth', 'mag', 'magType', 'nst',\n",
              "       'gap', 'dmin', 'rms', 'net', 'id', 'updated', 'place', 'type',\n",
              "       'horizontalError', 'depthError', 'magError', 'magNst', 'status',\n",
              "       'locationSource', 'magSource'],\n",
              "      dtype='object')"
            ]
          },
          "metadata": {},
          "execution_count": 6
        }
      ]
    },
    {
      "cell_type": "code",
      "source": [
        "#eliminando colunas\n",
        "df = df[['latitude', 'longitude', 'depth', 'nst', 'gap', 'dmin', 'rms', 'type', 'horizontalError', 'depthError', 'magError', 'magNst']]"
      ],
      "metadata": {
        "id": "Wc9uj3eXcjVo"
      },
      "execution_count": 7,
      "outputs": []
    },
    {
      "cell_type": "code",
      "source": [
        "#excluindo registros com valores nulos\n",
        "df.dropna(inplace=True)"
      ],
      "metadata": {
        "id": "Chnj0jnfd5ML"
      },
      "execution_count": 8,
      "outputs": []
    },
    {
      "cell_type": "code",
      "source": [
        "#verificando novamente o tamanho do dataset\n",
        "df.shape"
      ],
      "metadata": {
        "colab": {
          "base_uri": "https://localhost:8080/"
        },
        "id": "QKMPIwnFd7Hh",
        "outputId": "7ebc09f6-44f4-4eef-e781-a183105ab7b2"
      },
      "execution_count": 9,
      "outputs": [
        {
          "output_type": "execute_result",
          "data": {
            "text/plain": [
              "(36773, 12)"
            ]
          },
          "metadata": {},
          "execution_count": 9
        }
      ]
    },
    {
      "cell_type": "code",
      "source": [
        "#ordenando as colunas\n",
        "colunas_ordenadas = ['latitude', 'longitude', 'depth', 'nst', 'gap', 'dmin', 'rms', 'horizontalError', 'depthError', 'magError', 'magNst', 'type']"
      ],
      "metadata": {
        "id": "5Y22nN-9eEzz"
      },
      "execution_count": 12,
      "outputs": []
    },
    {
      "cell_type": "code",
      "source": [
        "df = df[colunas_ordenadas]"
      ],
      "metadata": {
        "id": "L3KaHkjKe2-C"
      },
      "execution_count": 13,
      "outputs": []
    },
    {
      "cell_type": "markdown",
      "source": [
        "#Aplicando algoritimo Arvore de Decisão (DecisionTreeClassifier)"
      ],
      "metadata": {
        "id": "d6Gq9GeAdTV0"
      }
    },
    {
      "cell_type": "code",
      "source": [
        "#separando os dados de treino e teste\n",
        "X_treino, X_teste, y_treino, y_teste = train_test_split(df[['latitude', 'longitude', 'depth', 'nst', 'gap', 'dmin', 'rms',  \n",
        "       'horizontalError', 'depthError', 'magError', 'magNst']], df['type'], test_size=0.2)"
      ],
      "metadata": {
        "id": "SwCZNf6HZQ8N"
      },
      "execution_count": 14,
      "outputs": []
    },
    {
      "cell_type": "code",
      "source": [
        "arv = DecisionTreeClassifier(max_depth=3)\n",
        "arv.fit(X_treino, y_treino)\n",
        "acuracia_treino = arv.score(X_treino, y_treino)\n",
        "acuracia_treino"
      ],
      "metadata": {
        "colab": {
          "base_uri": "https://localhost:8080/"
        },
        "id": "squiLY-Vdwe4",
        "outputId": "23678bc3-b5eb-456b-d7bc-37ebf647991e"
      },
      "execution_count": 16,
      "outputs": [
        {
          "output_type": "execute_result",
          "data": {
            "text/plain": [
              "0.9891902916581685"
            ]
          },
          "metadata": {},
          "execution_count": 16
        }
      ]
    },
    {
      "cell_type": "code",
      "source": [
        "#grafico do modelo\n",
        "graf = export_graphviz(arv, filled=True, feature_names=['latitude', 'longitude', 'depth', 'nst', 'gap', 'dmin', 'rms',  \n",
        "       'horizontalError', 'depthError', 'magError', 'magNst'], \n",
        "       class_names=['earthquake', 'quarry blast', 'explosion', 'other event', 'chemical explosion'])\n",
        "\n",
        "Source(graf)\n",
        "\n",
        "#obs.: obs.: com base nos valores das variáveis preditoras o algoritmo irá formar os nós da Arvore de decisão, sobre os valores da variável target (TYPE)"
      ],
      "metadata": {
        "colab": {
          "base_uri": "https://localhost:8080/",
          "height": 619
        },
        "id": "EQruuUcxeFG7",
        "outputId": "f1a480fc-8986-4422-ab11-a4e6bcf6700f"
      },
      "execution_count": 20,
      "outputs": [
        {
          "output_type": "execute_result",
          "data": {
            "text/plain": [
              "<graphviz.files.Source at 0x7fb4410c9490>"
            ],
            "image/svg+xml": "<?xml version=\"1.0\" encoding=\"UTF-8\" standalone=\"no\"?>\n<!DOCTYPE svg PUBLIC \"-//W3C//DTD SVG 1.1//EN\"\n \"http://www.w3.org/Graphics/SVG/1.1/DTD/svg11.dtd\">\n<!-- Generated by graphviz version 2.40.1 (20161225.0304)\n -->\n<!-- Title: Tree Pages: 1 -->\n<svg width=\"1395pt\" height=\"433pt\"\n viewBox=\"0.00 0.00 1394.50 433.00\" xmlns=\"http://www.w3.org/2000/svg\" xmlns:xlink=\"http://www.w3.org/1999/xlink\">\n<g id=\"graph0\" class=\"graph\" transform=\"scale(1 1) rotate(0) translate(4 429)\">\n<title>Tree</title>\n<polygon fill=\"#ffffff\" stroke=\"transparent\" points=\"-4,4 -4,-429 1390.5,-429 1390.5,4 -4,4\"/>\n<!-- 0 -->\n<g id=\"node1\" class=\"node\">\n<title>0</title>\n<polygon fill=\"#e6843e\" stroke=\"#000000\" points=\"793.5,-425 596.5,-425 596.5,-342 793.5,-342 793.5,-425\"/>\n<text text-anchor=\"middle\" x=\"695\" y=\"-409.8\" font-family=\"Helvetica,sans-Serif\" font-size=\"14.00\" fill=\"#000000\">depthError &lt;= 31.285</text>\n<text text-anchor=\"middle\" x=\"695\" y=\"-394.8\" font-family=\"Helvetica,sans-Serif\" font-size=\"14.00\" fill=\"#000000\">gini = 0.046</text>\n<text text-anchor=\"middle\" x=\"695\" y=\"-379.8\" font-family=\"Helvetica,sans-Serif\" font-size=\"14.00\" fill=\"#000000\">samples = 29418</text>\n<text text-anchor=\"middle\" x=\"695\" y=\"-364.8\" font-family=\"Helvetica,sans-Serif\" font-size=\"14.00\" fill=\"#000000\">value = [28722, 301, 1, 394]</text>\n<text text-anchor=\"middle\" x=\"695\" y=\"-349.8\" font-family=\"Helvetica,sans-Serif\" font-size=\"14.00\" fill=\"#000000\">class = earthquake</text>\n</g>\n<!-- 1 -->\n<g id=\"node2\" class=\"node\">\n<title>1</title>\n<polygon fill=\"#e5813a\" stroke=\"#000000\" points=\"612,-306 440,-306 440,-223 612,-223 612,-306\"/>\n<text text-anchor=\"middle\" x=\"526\" y=\"-290.8\" font-family=\"Helvetica,sans-Serif\" font-size=\"14.00\" fill=\"#000000\">magNst &lt;= 28.5</text>\n<text text-anchor=\"middle\" x=\"526\" y=\"-275.8\" font-family=\"Helvetica,sans-Serif\" font-size=\"14.00\" fill=\"#000000\">gini = 0.006</text>\n<text text-anchor=\"middle\" x=\"526\" y=\"-260.8\" font-family=\"Helvetica,sans-Serif\" font-size=\"14.00\" fill=\"#000000\">samples = 28077</text>\n<text text-anchor=\"middle\" x=\"526\" y=\"-245.8\" font-family=\"Helvetica,sans-Serif\" font-size=\"14.00\" fill=\"#000000\">value = [27991, 2, 0, 84]</text>\n<text text-anchor=\"middle\" x=\"526\" y=\"-230.8\" font-family=\"Helvetica,sans-Serif\" font-size=\"14.00\" fill=\"#000000\">class = earthquake</text>\n</g>\n<!-- 0&#45;&gt;1 -->\n<g id=\"edge1\" class=\"edge\">\n<title>0&#45;&gt;1</title>\n<path fill=\"none\" stroke=\"#000000\" d=\"M635.892,-341.8796C622.1266,-332.1868 607.3701,-321.7961 593.2807,-311.8752\"/>\n<polygon fill=\"#000000\" stroke=\"#000000\" points=\"595.2661,-308.9926 585.0746,-306.0969 591.2359,-314.716 595.2661,-308.9926\"/>\n<text text-anchor=\"middle\" x=\"589.3509\" y=\"-327.0285\" font-family=\"Helvetica,sans-Serif\" font-size=\"14.00\" fill=\"#000000\">True</text>\n</g>\n<!-- 8 -->\n<g id=\"node9\" class=\"node\">\n<title>8</title>\n<polygon fill=\"#f4ccae\" stroke=\"#000000\" points=\"965,-306 785,-306 785,-223 965,-223 965,-306\"/>\n<text text-anchor=\"middle\" x=\"875\" y=\"-290.8\" font-family=\"Helvetica,sans-Serif\" font-size=\"14.00\" fill=\"#000000\">depth &lt;= &#45;0.065</text>\n<text text-anchor=\"middle\" x=\"875\" y=\"-275.8\" font-family=\"Helvetica,sans-Serif\" font-size=\"14.00\" fill=\"#000000\">gini = 0.6</text>\n<text text-anchor=\"middle\" x=\"875\" y=\"-260.8\" font-family=\"Helvetica,sans-Serif\" font-size=\"14.00\" fill=\"#000000\">samples = 1341</text>\n<text text-anchor=\"middle\" x=\"875\" y=\"-245.8\" font-family=\"Helvetica,sans-Serif\" font-size=\"14.00\" fill=\"#000000\">value = [731, 299, 1, 310]</text>\n<text text-anchor=\"middle\" x=\"875\" y=\"-230.8\" font-family=\"Helvetica,sans-Serif\" font-size=\"14.00\" fill=\"#000000\">class = earthquake</text>\n</g>\n<!-- 0&#45;&gt;8 -->\n<g id=\"edge8\" class=\"edge\">\n<title>0&#45;&gt;8</title>\n<path fill=\"none\" stroke=\"#000000\" d=\"M757.9553,-341.8796C772.6166,-332.1868 788.3336,-321.7961 803.3401,-311.8752\"/>\n<polygon fill=\"#000000\" stroke=\"#000000\" points=\"805.6687,-314.5315 812.0803,-306.0969 801.8082,-308.6922 805.6687,-314.5315\"/>\n<text text-anchor=\"middle\" x=\"807.0829\" y=\"-326.8924\" font-family=\"Helvetica,sans-Serif\" font-size=\"14.00\" fill=\"#000000\">False</text>\n</g>\n<!-- 2 -->\n<g id=\"node3\" class=\"node\">\n<title>2</title>\n<polygon fill=\"#e58139\" stroke=\"#000000\" points=\"354,-187 182,-187 182,-104 354,-104 354,-187\"/>\n<text text-anchor=\"middle\" x=\"268\" y=\"-171.8\" font-family=\"Helvetica,sans-Serif\" font-size=\"14.00\" fill=\"#000000\">latitude &lt;= 32.768</text>\n<text text-anchor=\"middle\" x=\"268\" y=\"-156.8\" font-family=\"Helvetica,sans-Serif\" font-size=\"14.00\" fill=\"#000000\">gini = 0.003</text>\n<text text-anchor=\"middle\" x=\"268\" y=\"-141.8\" font-family=\"Helvetica,sans-Serif\" font-size=\"14.00\" fill=\"#000000\">samples = 25281</text>\n<text text-anchor=\"middle\" x=\"268\" y=\"-126.8\" font-family=\"Helvetica,sans-Serif\" font-size=\"14.00\" fill=\"#000000\">value = [25246, 2, 0, 33]</text>\n<text text-anchor=\"middle\" x=\"268\" y=\"-111.8\" font-family=\"Helvetica,sans-Serif\" font-size=\"14.00\" fill=\"#000000\">class = earthquake</text>\n</g>\n<!-- 1&#45;&gt;2 -->\n<g id=\"edge2\" class=\"edge\">\n<title>1&#45;&gt;2</title>\n<path fill=\"none\" stroke=\"#000000\" d=\"M439.731,-224.7093C415.2033,-213.3961 388.352,-201.0112 363.32,-189.4654\"/>\n<polygon fill=\"#000000\" stroke=\"#000000\" points=\"364.7342,-186.2634 354.1877,-185.2532 361.8024,-192.6199 364.7342,-186.2634\"/>\n</g>\n<!-- 5 -->\n<g id=\"node6\" class=\"node\">\n<title>5</title>\n<polygon fill=\"#e5833d\" stroke=\"#000000\" points=\"608,-187 444,-187 444,-104 608,-104 608,-187\"/>\n<text text-anchor=\"middle\" x=\"526\" y=\"-171.8\" font-family=\"Helvetica,sans-Serif\" font-size=\"14.00\" fill=\"#000000\">depth &lt;= 2.475</text>\n<text text-anchor=\"middle\" x=\"526\" y=\"-156.8\" font-family=\"Helvetica,sans-Serif\" font-size=\"14.00\" fill=\"#000000\">gini = 0.036</text>\n<text text-anchor=\"middle\" x=\"526\" y=\"-141.8\" font-family=\"Helvetica,sans-Serif\" font-size=\"14.00\" fill=\"#000000\">samples = 2796</text>\n<text text-anchor=\"middle\" x=\"526\" y=\"-126.8\" font-family=\"Helvetica,sans-Serif\" font-size=\"14.00\" fill=\"#000000\">value = [2745, 0, 0, 51]</text>\n<text text-anchor=\"middle\" x=\"526\" y=\"-111.8\" font-family=\"Helvetica,sans-Serif\" font-size=\"14.00\" fill=\"#000000\">class = earthquake</text>\n</g>\n<!-- 1&#45;&gt;5 -->\n<g id=\"edge5\" class=\"edge\">\n<title>1&#45;&gt;5</title>\n<path fill=\"none\" stroke=\"#000000\" d=\"M526,-222.8796C526,-214.6838 526,-205.9891 526,-197.5013\"/>\n<polygon fill=\"#000000\" stroke=\"#000000\" points=\"529.5001,-197.298 526,-187.2981 522.5001,-197.2981 529.5001,-197.298\"/>\n</g>\n<!-- 3 -->\n<g id=\"node4\" class=\"node\">\n<title>3</title>\n<polygon fill=\"#e5823a\" stroke=\"#000000\" points=\"164,-68 0,-68 0,0 164,0 164,-68\"/>\n<text text-anchor=\"middle\" x=\"82\" y=\"-52.8\" font-family=\"Helvetica,sans-Serif\" font-size=\"14.00\" fill=\"#000000\">gini = 0.012</text>\n<text text-anchor=\"middle\" x=\"82\" y=\"-37.8\" font-family=\"Helvetica,sans-Serif\" font-size=\"14.00\" fill=\"#000000\">samples = 3252</text>\n<text text-anchor=\"middle\" x=\"82\" y=\"-22.8\" font-family=\"Helvetica,sans-Serif\" font-size=\"14.00\" fill=\"#000000\">value = [3233, 0, 0, 19]</text>\n<text text-anchor=\"middle\" x=\"82\" y=\"-7.8\" font-family=\"Helvetica,sans-Serif\" font-size=\"14.00\" fill=\"#000000\">class = earthquake</text>\n</g>\n<!-- 2&#45;&gt;3 -->\n<g id=\"edge3\" class=\"edge\">\n<title>2&#45;&gt;3</title>\n<path fill=\"none\" stroke=\"#000000\" d=\"M198.7405,-103.9815C182.0953,-94.0034 164.3627,-83.3733 147.8764,-73.4904\"/>\n<polygon fill=\"#000000\" stroke=\"#000000\" points=\"149.2369,-70.2253 138.8603,-68.0856 145.6377,-76.2292 149.2369,-70.2253\"/>\n</g>\n<!-- 4 -->\n<g id=\"node5\" class=\"node\">\n<title>4</title>\n<polygon fill=\"#e58139\" stroke=\"#000000\" points=\"354,-68 182,-68 182,0 354,0 354,-68\"/>\n<text text-anchor=\"middle\" x=\"268\" y=\"-52.8\" font-family=\"Helvetica,sans-Serif\" font-size=\"14.00\" fill=\"#000000\">gini = 0.001</text>\n<text text-anchor=\"middle\" x=\"268\" y=\"-37.8\" font-family=\"Helvetica,sans-Serif\" font-size=\"14.00\" fill=\"#000000\">samples = 22029</text>\n<text text-anchor=\"middle\" x=\"268\" y=\"-22.8\" font-family=\"Helvetica,sans-Serif\" font-size=\"14.00\" fill=\"#000000\">value = [22013, 2, 0, 14]</text>\n<text text-anchor=\"middle\" x=\"268\" y=\"-7.8\" font-family=\"Helvetica,sans-Serif\" font-size=\"14.00\" fill=\"#000000\">class = earthquake</text>\n</g>\n<!-- 2&#45;&gt;4 -->\n<g id=\"edge4\" class=\"edge\">\n<title>2&#45;&gt;4</title>\n<path fill=\"none\" stroke=\"#000000\" d=\"M268,-103.9815C268,-95.618 268,-86.7965 268,-78.3409\"/>\n<polygon fill=\"#000000\" stroke=\"#000000\" points=\"271.5001,-78.2636 268,-68.2637 264.5001,-78.2637 271.5001,-78.2636\"/>\n</g>\n<!-- 6 -->\n<g id=\"node7\" class=\"node\">\n<title>6</title>\n<polygon fill=\"#f2c09c\" stroke=\"#000000\" points=\"519.5,-68 372.5,-68 372.5,0 519.5,0 519.5,-68\"/>\n<text text-anchor=\"middle\" x=\"446\" y=\"-52.8\" font-family=\"Helvetica,sans-Serif\" font-size=\"14.00\" fill=\"#000000\">gini = 0.444</text>\n<text text-anchor=\"middle\" x=\"446\" y=\"-37.8\" font-family=\"Helvetica,sans-Serif\" font-size=\"14.00\" fill=\"#000000\">samples = 138</text>\n<text text-anchor=\"middle\" x=\"446\" y=\"-22.8\" font-family=\"Helvetica,sans-Serif\" font-size=\"14.00\" fill=\"#000000\">value = [92, 0, 0, 46]</text>\n<text text-anchor=\"middle\" x=\"446\" y=\"-7.8\" font-family=\"Helvetica,sans-Serif\" font-size=\"14.00\" fill=\"#000000\">class = earthquake</text>\n</g>\n<!-- 5&#45;&gt;6 -->\n<g id=\"edge6\" class=\"edge\">\n<title>5&#45;&gt;6</title>\n<path fill=\"none\" stroke=\"#000000\" d=\"M496.211,-103.9815C489.7486,-94.9747 482.9052,-85.4367 476.419,-76.3965\"/>\n<polygon fill=\"#000000\" stroke=\"#000000\" points=\"479.2572,-74.3483 470.5838,-68.2637 473.5697,-78.4291 479.2572,-74.3483\"/>\n</g>\n<!-- 7 -->\n<g id=\"node8\" class=\"node\">\n<title>7</title>\n<polygon fill=\"#e58139\" stroke=\"#000000\" points=\"692.5,-68 537.5,-68 537.5,0 692.5,0 692.5,-68\"/>\n<text text-anchor=\"middle\" x=\"615\" y=\"-52.8\" font-family=\"Helvetica,sans-Serif\" font-size=\"14.00\" fill=\"#000000\">gini = 0.004</text>\n<text text-anchor=\"middle\" x=\"615\" y=\"-37.8\" font-family=\"Helvetica,sans-Serif\" font-size=\"14.00\" fill=\"#000000\">samples = 2658</text>\n<text text-anchor=\"middle\" x=\"615\" y=\"-22.8\" font-family=\"Helvetica,sans-Serif\" font-size=\"14.00\" fill=\"#000000\">value = [2653, 0, 0, 5]</text>\n<text text-anchor=\"middle\" x=\"615\" y=\"-7.8\" font-family=\"Helvetica,sans-Serif\" font-size=\"14.00\" fill=\"#000000\">class = earthquake</text>\n</g>\n<!-- 5&#45;&gt;7 -->\n<g id=\"edge7\" class=\"edge\">\n<title>5&#45;&gt;7</title>\n<path fill=\"none\" stroke=\"#000000\" d=\"M559.1403,-103.9815C566.403,-94.8828 574.0983,-85.242 581.3796,-76.1199\"/>\n<polygon fill=\"#000000\" stroke=\"#000000\" points=\"584.1475,-78.2627 587.6505,-68.2637 578.6766,-73.8958 584.1475,-78.2627\"/>\n</g>\n<!-- 9 -->\n<g id=\"node10\" class=\"node\">\n<title>9</title>\n<polygon fill=\"#e8fce6\" stroke=\"#000000\" points=\"965,-187 785,-187 785,-104 965,-104 965,-187\"/>\n<text text-anchor=\"middle\" x=\"875\" y=\"-171.8\" font-family=\"Helvetica,sans-Serif\" font-size=\"14.00\" fill=\"#000000\">latitude &lt;= 41.886</text>\n<text text-anchor=\"middle\" x=\"875\" y=\"-156.8\" font-family=\"Helvetica,sans-Serif\" font-size=\"14.00\" fill=\"#000000\">gini = 0.621</text>\n<text text-anchor=\"middle\" x=\"875\" y=\"-141.8\" font-family=\"Helvetica,sans-Serif\" font-size=\"14.00\" fill=\"#000000\">samples = 645</text>\n<text text-anchor=\"middle\" x=\"875\" y=\"-126.8\" font-family=\"Helvetica,sans-Serif\" font-size=\"14.00\" fill=\"#000000\">value = [105, 295, 1, 244]</text>\n<text text-anchor=\"middle\" x=\"875\" y=\"-111.8\" font-family=\"Helvetica,sans-Serif\" font-size=\"14.00\" fill=\"#000000\">class = quarry blast</text>\n</g>\n<!-- 8&#45;&gt;9 -->\n<g id=\"edge9\" class=\"edge\">\n<title>8&#45;&gt;9</title>\n<path fill=\"none\" stroke=\"#000000\" d=\"M875,-222.8796C875,-214.6838 875,-205.9891 875,-197.5013\"/>\n<polygon fill=\"#000000\" stroke=\"#000000\" points=\"878.5001,-197.298 875,-187.2981 871.5001,-197.2981 878.5001,-197.298\"/>\n</g>\n<!-- 12 -->\n<g id=\"node13\" class=\"node\">\n<title>12</title>\n<polygon fill=\"#e88f4f\" stroke=\"#000000\" points=\"1221.5,-187 1066.5,-187 1066.5,-104 1221.5,-104 1221.5,-187\"/>\n<text text-anchor=\"middle\" x=\"1144\" y=\"-171.8\" font-family=\"Helvetica,sans-Serif\" font-size=\"14.00\" fill=\"#000000\">magNst &lt;= 27.5</text>\n<text text-anchor=\"middle\" x=\"1144\" y=\"-156.8\" font-family=\"Helvetica,sans-Serif\" font-size=\"14.00\" fill=\"#000000\">gini = 0.182</text>\n<text text-anchor=\"middle\" x=\"1144\" y=\"-141.8\" font-family=\"Helvetica,sans-Serif\" font-size=\"14.00\" fill=\"#000000\">samples = 696</text>\n<text text-anchor=\"middle\" x=\"1144\" y=\"-126.8\" font-family=\"Helvetica,sans-Serif\" font-size=\"14.00\" fill=\"#000000\">value = [626, 4, 0, 66]</text>\n<text text-anchor=\"middle\" x=\"1144\" y=\"-111.8\" font-family=\"Helvetica,sans-Serif\" font-size=\"14.00\" fill=\"#000000\">class = earthquake</text>\n</g>\n<!-- 8&#45;&gt;12 -->\n<g id=\"edge12\" class=\"edge\">\n<title>8&#45;&gt;12</title>\n<path fill=\"none\" stroke=\"#000000\" d=\"M965.3214,-224.5437C994.7948,-211.5053 1027.4522,-197.0583 1056.6994,-184.12\"/>\n<polygon fill=\"#000000\" stroke=\"#000000\" points=\"1058.3379,-187.2224 1066.0671,-179.9759 1055.506,-180.8208 1058.3379,-187.2224\"/>\n</g>\n<!-- 10 -->\n<g id=\"node11\" class=\"node\">\n<title>10</title>\n<polygon fill=\"#eda4f3\" stroke=\"#000000\" points=\"875,-68 711,-68 711,0 875,0 875,-68\"/>\n<text text-anchor=\"middle\" x=\"793\" y=\"-52.8\" font-family=\"Helvetica,sans-Serif\" font-size=\"14.00\" fill=\"#000000\">gini = 0.456</text>\n<text text-anchor=\"middle\" x=\"793\" y=\"-37.8\" font-family=\"Helvetica,sans-Serif\" font-size=\"14.00\" fill=\"#000000\">samples = 290</text>\n<text text-anchor=\"middle\" x=\"793\" y=\"-22.8\" font-family=\"Helvetica,sans-Serif\" font-size=\"14.00\" fill=\"#000000\">value = [102, 0, 0, 188]</text>\n<text text-anchor=\"middle\" x=\"793\" y=\"-7.8\" font-family=\"Helvetica,sans-Serif\" font-size=\"14.00\" fill=\"#000000\">class = other event</text>\n</g>\n<!-- 9&#45;&gt;10 -->\n<g id=\"edge10\" class=\"edge\">\n<title>9&#45;&gt;10</title>\n<path fill=\"none\" stroke=\"#000000\" d=\"M844.4662,-103.9815C837.8424,-94.9747 830.8279,-85.4367 824.1795,-76.3965\"/>\n<polygon fill=\"#000000\" stroke=\"#000000\" points=\"826.9426,-74.2461 818.1984,-68.2637 821.3034,-78.3933 826.9426,-74.2461\"/>\n</g>\n<!-- 11 -->\n<g id=\"node12\" class=\"node\">\n<title>11</title>\n<polygon fill=\"#6cea61\" stroke=\"#000000\" points=\"1048.5,-68 893.5,-68 893.5,0 1048.5,0 1048.5,-68\"/>\n<text text-anchor=\"middle\" x=\"971\" y=\"-52.8\" font-family=\"Helvetica,sans-Serif\" font-size=\"14.00\" fill=\"#000000\">gini = 0.284</text>\n<text text-anchor=\"middle\" x=\"971\" y=\"-37.8\" font-family=\"Helvetica,sans-Serif\" font-size=\"14.00\" fill=\"#000000\">samples = 355</text>\n<text text-anchor=\"middle\" x=\"971\" y=\"-22.8\" font-family=\"Helvetica,sans-Serif\" font-size=\"14.00\" fill=\"#000000\">value = [3, 295, 1, 56]</text>\n<text text-anchor=\"middle\" x=\"971\" y=\"-7.8\" font-family=\"Helvetica,sans-Serif\" font-size=\"14.00\" fill=\"#000000\">class = quarry blast</text>\n</g>\n<!-- 9&#45;&gt;11 -->\n<g id=\"edge11\" class=\"edge\">\n<title>9&#45;&gt;11</title>\n<path fill=\"none\" stroke=\"#000000\" d=\"M910.7469,-103.9815C918.6599,-94.7908 927.0491,-85.0472 934.9732,-75.8436\"/>\n<polygon fill=\"#000000\" stroke=\"#000000\" points=\"937.6271,-78.1255 941.4994,-68.2637 932.3224,-73.5582 937.6271,-78.1255\"/>\n</g>\n<!-- 13 -->\n<g id=\"node14\" class=\"node\">\n<title>13</title>\n<polygon fill=\"#e68742\" stroke=\"#000000\" points=\"1221.5,-68 1066.5,-68 1066.5,0 1221.5,0 1221.5,-68\"/>\n<text text-anchor=\"middle\" x=\"1144\" y=\"-52.8\" font-family=\"Helvetica,sans-Serif\" font-size=\"14.00\" fill=\"#000000\">gini = 0.081</text>\n<text text-anchor=\"middle\" x=\"1144\" y=\"-37.8\" font-family=\"Helvetica,sans-Serif\" font-size=\"14.00\" fill=\"#000000\">samples = 592</text>\n<text text-anchor=\"middle\" x=\"1144\" y=\"-22.8\" font-family=\"Helvetica,sans-Serif\" font-size=\"14.00\" fill=\"#000000\">value = [567, 4, 0, 21]</text>\n<text text-anchor=\"middle\" x=\"1144\" y=\"-7.8\" font-family=\"Helvetica,sans-Serif\" font-size=\"14.00\" fill=\"#000000\">class = earthquake</text>\n</g>\n<!-- 12&#45;&gt;13 -->\n<g id=\"edge13\" class=\"edge\">\n<title>12&#45;&gt;13</title>\n<path fill=\"none\" stroke=\"#000000\" d=\"M1144,-103.9815C1144,-95.618 1144,-86.7965 1144,-78.3409\"/>\n<polygon fill=\"#000000\" stroke=\"#000000\" points=\"1147.5001,-78.2636 1144,-68.2637 1140.5001,-78.2637 1147.5001,-78.2636\"/>\n</g>\n<!-- 14 -->\n<g id=\"node15\" class=\"node\">\n<title>14</title>\n<polygon fill=\"#f9e1d0\" stroke=\"#000000\" points=\"1386.5,-68 1239.5,-68 1239.5,0 1386.5,0 1386.5,-68\"/>\n<text text-anchor=\"middle\" x=\"1313\" y=\"-52.8\" font-family=\"Helvetica,sans-Serif\" font-size=\"14.00\" fill=\"#000000\">gini = 0.491</text>\n<text text-anchor=\"middle\" x=\"1313\" y=\"-37.8\" font-family=\"Helvetica,sans-Serif\" font-size=\"14.00\" fill=\"#000000\">samples = 104</text>\n<text text-anchor=\"middle\" x=\"1313\" y=\"-22.8\" font-family=\"Helvetica,sans-Serif\" font-size=\"14.00\" fill=\"#000000\">value = [59, 0, 0, 45]</text>\n<text text-anchor=\"middle\" x=\"1313\" y=\"-7.8\" font-family=\"Helvetica,sans-Serif\" font-size=\"14.00\" fill=\"#000000\">class = earthquake</text>\n</g>\n<!-- 12&#45;&gt;14 -->\n<g id=\"edge14\" class=\"edge\">\n<title>12&#45;&gt;14</title>\n<path fill=\"none\" stroke=\"#000000\" d=\"M1206.9294,-103.9815C1221.9132,-94.0957 1237.8668,-83.5701 1252.7282,-73.7651\"/>\n<polygon fill=\"#000000\" stroke=\"#000000\" points=\"1254.917,-76.5142 1261.3366,-68.0856 1251.0621,-70.6713 1254.917,-76.5142\"/>\n</g>\n</g>\n</svg>\n"
          },
          "metadata": {},
          "execution_count": 20
        }
      ]
    },
    {
      "cell_type": "code",
      "source": [],
      "metadata": {
        "id": "ym2x68XmU3K4"
      },
      "execution_count": null,
      "outputs": []
    }
  ]
}